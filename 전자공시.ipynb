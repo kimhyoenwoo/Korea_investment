{
 "cells": [
  {
   "cell_type": "code",
   "execution_count": 1,
   "id": "6461c2ba-c337-40e8-9cd2-e1c7598e680a",
   "metadata": {},
   "outputs": [],
   "source": [
    "# 전자공식시 긁어오기 \n",
    "# 과서 시점을 긁어올 필요가 있을까 ?"
   ]
  },
  {
   "cell_type": "code",
   "execution_count": 2,
   "id": "87cc7859-443e-4b58-9874-71d1801596be",
   "metadata": {},
   "outputs": [
    {
     "name": "stdout",
     "output_type": "stream",
     "text": [
      "Requirement already satisfied: selenium in c:\\program files\\python_env\\venv\\python38_venv_220221\\lib\\site-packages (4.1.0)\n",
      "Requirement already satisfied: trio~=0.17 in c:\\program files\\python_env\\venv\\python38_venv_220221\\lib\\site-packages (from selenium) (0.19.0)\n",
      "Requirement already satisfied: trio-websocket~=0.9 in c:\\program files\\python_env\\venv\\python38_venv_220221\\lib\\site-packages (from selenium) (0.9.2)\n",
      "Requirement already satisfied: urllib3[secure]~=1.26 in c:\\program files\\python_env\\venv\\python38_venv_220221\\lib\\site-packages (from selenium) (1.26.7)\n",
      "Requirement already satisfied: attrs>=19.2.0 in c:\\program files\\python_env\\venv\\python38_venv_220221\\lib\\site-packages (from trio~=0.17->selenium) (21.2.0)\n",
      "Requirement already satisfied: outcome in c:\\program files\\python_env\\venv\\python38_venv_220221\\lib\\site-packages (from trio~=0.17->selenium) (1.1.0)\n",
      "Requirement already satisfied: cffi>=1.14; os_name == \"nt\" and implementation_name != \"pypy\" in c:\\program files\\python_env\\venv\\python38_venv_220221\\lib\\site-packages (from trio~=0.17->selenium) (1.15.0)\n",
      "Requirement already satisfied: idna in c:\\program files\\python_env\\venv\\python38_venv_220221\\lib\\site-packages (from trio~=0.17->selenium) (3.3)\n",
      "Requirement already satisfied: sortedcontainers in c:\\program files\\python_env\\venv\\python38_venv_220221\\lib\\site-packages (from trio~=0.17->selenium) (2.4.0)\n",
      "Requirement already satisfied: async-generator>=1.9 in c:\\program files\\python_env\\venv\\python38_venv_220221\\lib\\site-packages (from trio~=0.17->selenium) (1.10)\n",
      "Requirement already satisfied: sniffio in c:\\program files\\python_env\\venv\\python38_venv_220221\\lib\\site-packages (from trio~=0.17->selenium) (1.2.0)\n",
      "Requirement already satisfied: wsproto>=0.14 in c:\\program files\\python_env\\venv\\python38_venv_220221\\lib\\site-packages (from trio-websocket~=0.9->selenium) (1.0.0)\n",
      "Requirement already satisfied: pyOpenSSL>=0.14; extra == \"secure\" in c:\\program files\\python_env\\venv\\python38_venv_220221\\lib\\site-packages (from urllib3[secure]~=1.26->selenium) (22.0.0)\n",
      "Requirement already satisfied: cryptography>=1.3.4; extra == \"secure\" in c:\\program files\\python_env\\venv\\python38_venv_220221\\lib\\site-packages (from urllib3[secure]~=1.26->selenium) (36.0.1)\n",
      "Requirement already satisfied: certifi; extra == \"secure\" in c:\\program files\\python_env\\venv\\python38_venv_220221\\lib\\site-packages (from urllib3[secure]~=1.26->selenium) (2021.10.8)\n",
      "Requirement already satisfied: pycparser in c:\\program files\\python_env\\venv\\python38_venv_220221\\lib\\site-packages (from cffi>=1.14; os_name == \"nt\" and implementation_name != \"pypy\"->trio~=0.17->selenium) (2.21)\n",
      "Requirement already satisfied: h11<1,>=0.9.0 in c:\\program files\\python_env\\venv\\python38_venv_220221\\lib\\site-packages (from wsproto>=0.14->trio-websocket~=0.9->selenium) (0.13.0)\n",
      "Could not fetch URL https://pypi.org/simple/pip/: There was a problem confirming the ssl certificate: HTTPSConnectionPool(host='pypi.org', port=443): Max retries exceeded with url: /simple/pip/ (Caused by SSLError(SSLCertVerificationError(1, '[SSL: CERTIFICATE_VERIFY_FAILED] certificate verify failed: self signed certificate in certificate chain (_ssl.c:1123)'))) - skipping\n"
     ]
    }
   ],
   "source": [
    "# 셀레늄 \n",
    "! pip install selenium"
   ]
  },
  {
   "cell_type": "code",
   "execution_count": 3,
   "id": "3e86f790-2ec2-4c8b-a972-7be87b2ac0d7",
   "metadata": {},
   "outputs": [],
   "source": [
    "import re\n",
    "import warnings\n",
    "import pandas as pd\n",
    "warnings.filterwarnings('ignore')"
   ]
  },
  {
   "cell_type": "code",
   "execution_count": 4,
   "id": "6298fac6-a149-4bdb-8c66-f925c7b2c573",
   "metadata": {},
   "outputs": [],
   "source": [
    "# from selenium import webdriver # driver가동\n",
    "from selenium import webdriver # driver가동\n",
    "from selenium.webdriver.chrome.options import Options # binary 잡아주기 위한\n",
    "from selenium.webdriver.common.keys import Keys # 텍스트 값 보내기 위한 모듈\n",
    "from selenium.webdriver.support.ui import WebDriverWait # 웹페이지 기다리기\n",
    "#time.sleep() 을 줄수도 잇지만 언제 까지 기다려야 하는 지몰라서 \n",
    "#WebDriverWait 엘리먼트가 나올떄 까지마 기다리는것.\n",
    "from selenium.webdriver.common.by import By\n",
    "from selenium.webdriver.support import expected_conditions as EC\n",
    "\n",
    "import requests\n",
    "from bs4 import BeautifulSoup\n",
    "import time\n",
    "import pandas as pd"
   ]
  },
  {
   "cell_type": "code",
   "execution_count": 15,
   "id": "52b6bf39-7966-49d0-9541-ac04d01f5fc5",
   "metadata": {},
   "outputs": [],
   "source": [
    "options = Options() \n",
    "options.binary_location= 'C:/Program Files/Google/Chrome/Application/chrome.exe'\n",
    "options.add_argument(\"user-agent=Mozilla/5.0 (Windows NT 10.0; Win64; x64) AppleWebKit/537.36 (KHTML, like Gecko) Chrome/98.0.4758.102 Safari/537.36\")\n",
    "driver = webdriver.Chrome(chrome_options = options)\n"
   ]
  },
  {
   "cell_type": "code",
   "execution_count": 16,
   "id": "807c7a47-9685-4f74-94ce-aa35c67443ce",
   "metadata": {},
   "outputs": [],
   "source": [
    "driver.get('https://dart.fss.or.kr/dsac001/mainAll.do')"
   ]
  },
  {
   "cell_type": "code",
   "execution_count": 17,
   "id": "64949675-04ad-4927-a189-05267d4b549a",
   "metadata": {},
   "outputs": [],
   "source": [
    "soup = BeautifulSoup(driver.page_source,'html.parser')"
   ]
  },
  {
   "cell_type": "code",
   "execution_count": 22,
   "id": "6554f2ba-ed10-41c7-9a3f-a3f128aa9c02",
   "metadata": {},
   "outputs": [],
   "source": [
    "titles = soup.select('#listContents > div.tbListInner > table > tbody')"
   ]
  },
  {
   "cell_type": "code",
   "execution_count": 41,
   "id": "7f6d365a-0363-406f-a50d-9a546491a771",
   "metadata": {},
   "outputs": [],
   "source": [
    "# for title in titles:\n",
    "#     contents = title.select('tr>td')"
   ]
  },
  {
   "cell_type": "code",
   "execution_count": 89,
   "id": "7052d388-f72d-4153-94d2-e0544e87c98d",
   "metadata": {},
   "outputs": [],
   "source": [
    "contents = title.select('tr>td')"
   ]
  },
  {
   "cell_type": "code",
   "execution_count": 90,
   "id": "abf807ab-7396-4b52-9c4f-acec6bd2fcc5",
   "metadata": {},
   "outputs": [],
   "source": [
    "lst = []\n",
    "for content in contents: # td로 구분됨 \n",
    "    lst.append(content.get_text().strip())\n",
    "\n",
    "    "
   ]
  },
  {
   "cell_type": "code",
   "execution_count": 91,
   "id": "86f8afcb-5b19-4e37-a957-8fb81417073b",
   "metadata": {
    "tags": []
   },
   "outputs": [
    {
     "data": {
      "text/plain": [
       "['12:24',\n",
       " '코\\n\\n\\t\\t\\t\\t\\t\\t\\t\\t\\t\\t한국전자인증',\n",
       " '의결권대리행사권유참고서류',\n",
       " '한국전자인증',\n",
       " '2022.03.02',\n",
       " '',\n",
       " '12:19',\n",
       " '유\\n\\n\\t\\t\\t\\t\\t\\t\\t\\t\\t\\tS-Oil',\n",
       " '단일판매ㆍ공급계약체결',\n",
       " 'S-Oil']"
      ]
     },
     "execution_count": 91,
     "metadata": {},
     "output_type": "execute_result"
    }
   ],
   "source": [
    "lst[:10]"
   ]
  },
  {
   "cell_type": "code",
   "execution_count": 59,
   "id": "e66879b8-75db-4c0e-b5f4-fbb3801829b1",
   "metadata": {
    "tags": []
   },
   "outputs": [],
   "source": [
    "time =[x for idx, x in enumerate(lst) if idx % 6 ==0] # 시간만 추출 "
   ]
  },
  {
   "cell_type": "code",
   "execution_count": 61,
   "id": "a4a991c2-81e2-44aa-acf1-d478b6cd0181",
   "metadata": {},
   "outputs": [],
   "source": [
    "name =[x for idx, x in enumerate(lst) if idx % 6 ==1] # 이름만 추출 "
   ]
  },
  {
   "cell_type": "code",
   "execution_count": 62,
   "id": "b630b00c-0ee4-413f-a176-7daa6c9dac58",
   "metadata": {},
   "outputs": [],
   "source": [
    "text =[x for idx, x in enumerate(lst) if idx % 6 ==2] # 내용 "
   ]
  },
  {
   "cell_type": "code",
   "execution_count": 64,
   "id": "91ed32ef-ec4f-42e2-82d8-70b6c6235186",
   "metadata": {},
   "outputs": [],
   "source": [
    "date =[x for idx, x in enumerate(lst) if idx % 6 ==4] # 제출일 "
   ]
  },
  {
   "cell_type": "code",
   "execution_count": 70,
   "id": "d20c8d3d-e249-4529-b2ad-948a272f10a2",
   "metadata": {},
   "outputs": [
    {
     "data": {
      "text/html": [
       "<div>\n",
       "<style scoped>\n",
       "    .dataframe tbody tr th:only-of-type {\n",
       "        vertical-align: middle;\n",
       "    }\n",
       "\n",
       "    .dataframe tbody tr th {\n",
       "        vertical-align: top;\n",
       "    }\n",
       "\n",
       "    .dataframe thead th {\n",
       "        text-align: right;\n",
       "    }\n",
       "</style>\n",
       "<table border=\"1\" class=\"dataframe\">\n",
       "  <thead>\n",
       "    <tr style=\"text-align: right;\">\n",
       "      <th></th>\n",
       "      <th>time</th>\n",
       "      <th>name</th>\n",
       "      <th>text</th>\n",
       "      <th>date</th>\n",
       "    </tr>\n",
       "  </thead>\n",
       "  <tbody>\n",
       "    <tr>\n",
       "      <th>0</th>\n",
       "      <td>12:24</td>\n",
       "      <td>코\\n\\n\\t\\t\\t\\t\\t\\t\\t\\t\\t\\t한국전자인증</td>\n",
       "      <td>의결권대리행사권유참고서류</td>\n",
       "      <td>2022.03.02</td>\n",
       "    </tr>\n",
       "    <tr>\n",
       "      <th>1</th>\n",
       "      <td>12:19</td>\n",
       "      <td>유\\n\\n\\t\\t\\t\\t\\t\\t\\t\\t\\t\\tS-Oil</td>\n",
       "      <td>단일판매ㆍ공급계약체결</td>\n",
       "      <td>2022.03.02</td>\n",
       "    </tr>\n",
       "    <tr>\n",
       "      <th>2</th>\n",
       "      <td>12:14</td>\n",
       "      <td>코\\n\\n\\t\\t\\t\\t\\t\\t\\t\\t\\t\\t한국전자인증</td>\n",
       "      <td>주주총회소집공고</td>\n",
       "      <td>2022.03.02</td>\n",
       "    </tr>\n",
       "    <tr>\n",
       "      <th>3</th>\n",
       "      <td>12:03</td>\n",
       "      <td>기\\n\\n\\t\\t\\t\\t\\t\\t\\t\\t\\t\\t본에너지</td>\n",
       "      <td>감사보고서\\n\\t\\t\\t\\t\\t\\t\\t\\t\\t (2021.12)</td>\n",
       "      <td>2022.03.02</td>\n",
       "    </tr>\n",
       "    <tr>\n",
       "      <th>4</th>\n",
       "      <td>11:45</td>\n",
       "      <td>코\\n\\n\\t\\t\\t\\t\\t\\t\\t\\t\\t\\t현대사료</td>\n",
       "      <td>주주총회소집결의</td>\n",
       "      <td>2022.03.02</td>\n",
       "    </tr>\n",
       "  </tbody>\n",
       "</table>\n",
       "</div>"
      ],
      "text/plain": [
       "    time                             name  \\\n",
       "0  12:24  코\\n\\n\\t\\t\\t\\t\\t\\t\\t\\t\\t\\t한국전자인증   \n",
       "1  12:19   유\\n\\n\\t\\t\\t\\t\\t\\t\\t\\t\\t\\tS-Oil   \n",
       "2  12:14  코\\n\\n\\t\\t\\t\\t\\t\\t\\t\\t\\t\\t한국전자인증   \n",
       "3  12:03    기\\n\\n\\t\\t\\t\\t\\t\\t\\t\\t\\t\\t본에너지   \n",
       "4  11:45    코\\n\\n\\t\\t\\t\\t\\t\\t\\t\\t\\t\\t현대사료   \n",
       "\n",
       "                                  text        date  \n",
       "0                        의결권대리행사권유참고서류  2022.03.02  \n",
       "1                          단일판매ㆍ공급계약체결  2022.03.02  \n",
       "2                             주주총회소집공고  2022.03.02  \n",
       "3  감사보고서\\n\\t\\t\\t\\t\\t\\t\\t\\t\\t (2021.12)  2022.03.02  \n",
       "4                             주주총회소집결의  2022.03.02  "
      ]
     },
     "execution_count": 70,
     "metadata": {},
     "output_type": "execute_result"
    }
   ],
   "source": [
    "df = pd.DataFrame({'time':time,'name':name,'text':text,'date':date})\n",
    "df.head()"
   ]
  },
  {
   "cell_type": "code",
   "execution_count": 72,
   "id": "d94e2d82-a39a-4c15-a39d-dc0fd9fd0a62",
   "metadata": {},
   "outputs": [
    {
     "data": {
      "text/plain": [
       "['코', '', '\\t\\t\\t\\t\\t\\t\\t\\t\\t\\t한국전자인증']"
      ]
     },
     "execution_count": 72,
     "metadata": {},
     "output_type": "execute_result"
    }
   ],
   "source": [
    "name[0].split('\\n')"
   ]
  },
  {
   "cell_type": "code",
   "execution_count": 73,
   "id": "b2ea6e61-27cd-4343-a822-6164233f2b1c",
   "metadata": {},
   "outputs": [],
   "source": [
    "type_ = []\n",
    "cor_name =[]\n",
    "for i in name:\n",
    "    type_.append(i.split('\\n')[0])\n",
    "    cor_name.append(i.split('\\n')[2])\n",
    "\n",
    "    \n",
    "    "
   ]
  },
  {
   "cell_type": "code",
   "execution_count": 82,
   "id": "5e4aaa95-f251-4bdb-846d-1e77e792008a",
   "metadata": {},
   "outputs": [],
   "source": [
    "cor_name = [x.strip() for x in cor_name]\n",
    "text =[x.replace('\\t','') for x in text]\n",
    "text =[x.replace('\\n','') for x in text]\n"
   ]
  },
  {
   "cell_type": "code",
   "execution_count": 84,
   "id": "624fe1f9-61b6-40ef-8533-8381ba28ea93",
   "metadata": {},
   "outputs": [
    {
     "data": {
      "text/html": [
       "<div>\n",
       "<style scoped>\n",
       "    .dataframe tbody tr th:only-of-type {\n",
       "        vertical-align: middle;\n",
       "    }\n",
       "\n",
       "    .dataframe tbody tr th {\n",
       "        vertical-align: top;\n",
       "    }\n",
       "\n",
       "    .dataframe thead th {\n",
       "        text-align: right;\n",
       "    }\n",
       "</style>\n",
       "<table border=\"1\" class=\"dataframe\">\n",
       "  <thead>\n",
       "    <tr style=\"text-align: right;\">\n",
       "      <th></th>\n",
       "      <th>time</th>\n",
       "      <th>types</th>\n",
       "      <th>name</th>\n",
       "      <th>text</th>\n",
       "      <th>date</th>\n",
       "    </tr>\n",
       "  </thead>\n",
       "  <tbody>\n",
       "    <tr>\n",
       "      <th>0</th>\n",
       "      <td>12:24</td>\n",
       "      <td>코</td>\n",
       "      <td>한국전자인증</td>\n",
       "      <td>의결권대리행사권유참고서류</td>\n",
       "      <td>2022.03.02</td>\n",
       "    </tr>\n",
       "    <tr>\n",
       "      <th>1</th>\n",
       "      <td>12:19</td>\n",
       "      <td>유</td>\n",
       "      <td>S-Oil</td>\n",
       "      <td>단일판매ㆍ공급계약체결</td>\n",
       "      <td>2022.03.02</td>\n",
       "    </tr>\n",
       "    <tr>\n",
       "      <th>2</th>\n",
       "      <td>12:14</td>\n",
       "      <td>코</td>\n",
       "      <td>한국전자인증</td>\n",
       "      <td>주주총회소집공고</td>\n",
       "      <td>2022.03.02</td>\n",
       "    </tr>\n",
       "    <tr>\n",
       "      <th>3</th>\n",
       "      <td>12:03</td>\n",
       "      <td>기</td>\n",
       "      <td>본에너지</td>\n",
       "      <td>감사보고서 (2021.12)</td>\n",
       "      <td>2022.03.02</td>\n",
       "    </tr>\n",
       "    <tr>\n",
       "      <th>4</th>\n",
       "      <td>11:45</td>\n",
       "      <td>코</td>\n",
       "      <td>현대사료</td>\n",
       "      <td>주주총회소집결의</td>\n",
       "      <td>2022.03.02</td>\n",
       "    </tr>\n",
       "  </tbody>\n",
       "</table>\n",
       "</div>"
      ],
      "text/plain": [
       "    time types    name             text        date\n",
       "0  12:24     코  한국전자인증    의결권대리행사권유참고서류  2022.03.02\n",
       "1  12:19     유   S-Oil      단일판매ㆍ공급계약체결  2022.03.02\n",
       "2  12:14     코  한국전자인증         주주총회소집공고  2022.03.02\n",
       "3  12:03     기    본에너지  감사보고서 (2021.12)  2022.03.02\n",
       "4  11:45     코    현대사료         주주총회소집결의  2022.03.02"
      ]
     },
     "execution_count": 84,
     "metadata": {},
     "output_type": "execute_result"
    }
   ],
   "source": [
    "df = pd.DataFrame({'time':time,'types':type_,'name':cor_name,'text':text,'date':date})\n",
    "df.head()"
   ]
  },
  {
   "cell_type": "code",
   "execution_count": null,
   "id": "72afc883-07f8-4657-868c-7e414822c337",
   "metadata": {},
   "outputs": [],
   "source": []
  }
 ],
 "metadata": {
  "kernelspec": {
   "display_name": "Python 3 (ipykernel)",
   "language": "python",
   "name": "python3"
  },
  "language_info": {
   "codemirror_mode": {
    "name": "ipython",
    "version": 3
   },
   "file_extension": ".py",
   "mimetype": "text/x-python",
   "name": "python",
   "nbconvert_exporter": "python",
   "pygments_lexer": "ipython3",
   "version": "3.8.5"
  }
 },
 "nbformat": 4,
 "nbformat_minor": 5
}
