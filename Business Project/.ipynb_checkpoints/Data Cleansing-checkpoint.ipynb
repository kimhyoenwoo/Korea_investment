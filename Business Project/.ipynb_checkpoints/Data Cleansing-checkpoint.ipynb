{
 "cells": [
  {
   "cell_type": "code",
   "execution_count": 2,
   "id": "789f24c4",
   "metadata": {},
   "outputs": [],
   "source": [
    "import pandas as pd\n",
    "import numpy as np \n",
    "import re "
   ]
  },
  {
   "cell_type": "code",
   "execution_count": 4,
   "id": "a59206d5",
   "metadata": {},
   "outputs": [
    {
     "data": {
      "text/html": [
       "<div>\n",
       "<style scoped>\n",
       "    .dataframe tbody tr th:only-of-type {\n",
       "        vertical-align: middle;\n",
       "    }\n",
       "\n",
       "    .dataframe tbody tr th {\n",
       "        vertical-align: top;\n",
       "    }\n",
       "\n",
       "    .dataframe thead th {\n",
       "        text-align: right;\n",
       "    }\n",
       "</style>\n",
       "<table border=\"1\" class=\"dataframe\">\n",
       "  <thead>\n",
       "    <tr style=\"text-align: right;\">\n",
       "      <th></th>\n",
       "      <th>Unnamed: 0</th>\n",
       "      <th>date</th>\n",
       "      <th>content</th>\n",
       "    </tr>\n",
       "  </thead>\n",
       "  <tbody>\n",
       "    <tr>\n",
       "      <th>0</th>\n",
       "      <td>0</td>\n",
       "      <td>2022.02.26. 오후 3:45</td>\n",
       "      <td>25일(현지 시각) 우크라이나 현지 매체 HB는 트위터에 30초짜리 짧은 영상과 함...</td>\n",
       "    </tr>\n",
       "    <tr>\n",
       "      <th>1</th>\n",
       "      <td>1</td>\n",
       "      <td>2022.02.14. 오전 3:03</td>\n",
       "      <td>에마뉘엘 마크롱 프랑스 대통령이 10일(현지시간) 동부 벨포르에서 원자력 발전용 증...</td>\n",
       "    </tr>\n",
       "    <tr>\n",
       "      <th>2</th>\n",
       "      <td>2</td>\n",
       "      <td>2022.02.26. 오전 9:21</td>\n",
       "      <td>[경향신문] 정의용 외교부 장관이 25일 전 재외공관장과 화상 회의를 열어 발언하고...</td>\n",
       "    </tr>\n",
       "    <tr>\n",
       "      <th>3</th>\n",
       "      <td>3</td>\n",
       "      <td>2022.02.02. 오전 10:57</td>\n",
       "      <td>승려들은 왜 반발할까관리자 존재하지만한 쪽으로 치우친 ‘사찰 부지 공공재’ 인식사찰...</td>\n",
       "    </tr>\n",
       "    <tr>\n",
       "      <th>4</th>\n",
       "      <td>4</td>\n",
       "      <td>2022.02.13. 오후 4:48</td>\n",
       "      <td>사진 '가비엔제이' 제니 인스타그램 캡처.           그룹 가비엔제이 제니와...</td>\n",
       "    </tr>\n",
       "  </tbody>\n",
       "</table>\n",
       "</div>"
      ],
      "text/plain": [
       "   Unnamed: 0                  date  \\\n",
       "0           0   2022.02.26. 오후 3:45   \n",
       "1           1   2022.02.14. 오전 3:03   \n",
       "2           2   2022.02.26. 오전 9:21   \n",
       "3           3  2022.02.02. 오전 10:57   \n",
       "4           4   2022.02.13. 오후 4:48   \n",
       "\n",
       "                                             content  \n",
       "0  25일(현지 시각) 우크라이나 현지 매체 HB는 트위터에 30초짜리 짧은 영상과 함...  \n",
       "1  에마뉘엘 마크롱 프랑스 대통령이 10일(현지시간) 동부 벨포르에서 원자력 발전용 증...  \n",
       "2  [경향신문] 정의용 외교부 장관이 25일 전 재외공관장과 화상 회의를 열어 발언하고...  \n",
       "3  승려들은 왜 반발할까관리자 존재하지만한 쪽으로 치우친 ‘사찰 부지 공공재’ 인식사찰...  \n",
       "4  사진 '가비엔제이' 제니 인스타그램 캡처.           그룹 가비엔제이 제니와...  "
      ]
     },
     "execution_count": 4,
     "metadata": {},
     "output_type": "execute_result"
    }
   ],
   "source": [
    "df = pd.read_csv(\"C:/Windows/[2380861]python38_64bit_base/notebooks/news_data_20335.csv\")\n",
    "df.head()"
   ]
  },
  {
   "cell_type": "code",
   "execution_count": 5,
   "id": "90bddcb3",
   "metadata": {},
   "outputs": [
    {
     "data": {
      "text/html": [
       "<div>\n",
       "<style scoped>\n",
       "    .dataframe tbody tr th:only-of-type {\n",
       "        vertical-align: middle;\n",
       "    }\n",
       "\n",
       "    .dataframe tbody tr th {\n",
       "        vertical-align: top;\n",
       "    }\n",
       "\n",
       "    .dataframe thead th {\n",
       "        text-align: right;\n",
       "    }\n",
       "</style>\n",
       "<table border=\"1\" class=\"dataframe\">\n",
       "  <thead>\n",
       "    <tr style=\"text-align: right;\">\n",
       "      <th></th>\n",
       "      <th>Unnamed: 0</th>\n",
       "      <th>title</th>\n",
       "      <th>date</th>\n",
       "      <th>content</th>\n",
       "    </tr>\n",
       "  </thead>\n",
       "  <tbody>\n",
       "    <tr>\n",
       "      <th>0</th>\n",
       "      <td>0</td>\n",
       "      <td>沈 “박근혜씨는 국정농단 중범죄자인가” 질문에 尹 답변은?</td>\n",
       "      <td>2022.02.25. 오후 9:51</td>\n",
       "      <td>沈 “윤석열은 민주당이 키워” 李 “가슴 콕콕 찔러, 동의한다”25일 서울 마포구 ...</td>\n",
       "    </tr>\n",
       "    <tr>\n",
       "      <th>1</th>\n",
       "      <td>1</td>\n",
       "      <td>\"태블릿PC, 타인 반환 금지\"…법원, 최서원 가처분 신청 인용</td>\n",
       "      <td>2022.02.21. 오전 10:24</td>\n",
       "      <td>2018년 8월 항소심 공판에 출석하는 최서원(개명 전 최순실)씨. 뉴스1     ...</td>\n",
       "    </tr>\n",
       "    <tr>\n",
       "      <th>2</th>\n",
       "      <td>2</td>\n",
       "      <td>정부, 벨라루스·우크라 접경지역에도 '출국권고'... \"교민 11명 국경 이동 중\"</td>\n",
       "      <td>2022.02.26. 오전 12:11</td>\n",
       "      <td>24일 우크라이나 국경 인근에 위치한 폴란드 프셰미실 기차역에서 피란 온 우크라이나...</td>\n",
       "    </tr>\n",
       "    <tr>\n",
       "      <th>3</th>\n",
       "      <td>3</td>\n",
       "      <td>SKT ‘ZEM’ 가입자 대상 3월까지 다양한 경품행사</td>\n",
       "      <td>2022.02.03. 오후 7:25</td>\n",
       "      <td>3일 SK텔레콤 모델들이 어린 자녀를 위한 앱서비스인 ‘ZEM’ 가입자를 대상으로 ...</td>\n",
       "    </tr>\n",
       "    <tr>\n",
       "      <th>4</th>\n",
       "      <td>4</td>\n",
       "      <td>“하루 40만원 이상 번다”… 보이스피싱 ‘현금 수거책’ 모집 주의</td>\n",
       "      <td>2022.02.21. 오후 12:03</td>\n",
       "      <td>서울 서대문구 경찰청 국가수사본부. 연합뉴스    ‘밝고 성실한 인재를 구합니다. ...</td>\n",
       "    </tr>\n",
       "  </tbody>\n",
       "</table>\n",
       "</div>"
      ],
      "text/plain": [
       "   Unnamed: 0                                           title  \\\n",
       "0           0                沈 “박근혜씨는 국정농단 중범죄자인가” 질문에 尹 답변은?   \n",
       "1           1             \"태블릿PC, 타인 반환 금지\"…법원, 최서원 가처분 신청 인용   \n",
       "2           2  정부, 벨라루스·우크라 접경지역에도 '출국권고'... \"교민 11명 국경 이동 중\"   \n",
       "3           3                  SKT ‘ZEM’ 가입자 대상 3월까지 다양한 경품행사   \n",
       "4           4           “하루 40만원 이상 번다”… 보이스피싱 ‘현금 수거책’ 모집 주의   \n",
       "\n",
       "                   date                                            content  \n",
       "0   2022.02.25. 오후 9:51  沈 “윤석열은 민주당이 키워” 李 “가슴 콕콕 찔러, 동의한다”25일 서울 마포구 ...  \n",
       "1  2022.02.21. 오전 10:24  2018년 8월 항소심 공판에 출석하는 최서원(개명 전 최순실)씨. 뉴스1     ...  \n",
       "2  2022.02.26. 오전 12:11  24일 우크라이나 국경 인근에 위치한 폴란드 프셰미실 기차역에서 피란 온 우크라이나...  \n",
       "3   2022.02.03. 오후 7:25  3일 SK텔레콤 모델들이 어린 자녀를 위한 앱서비스인 ‘ZEM’ 가입자를 대상으로 ...  \n",
       "4  2022.02.21. 오후 12:03  서울 서대문구 경찰청 국가수사본부. 연합뉴스    ‘밝고 성실한 인재를 구합니다. ...  "
      ]
     },
     "execution_count": 5,
     "metadata": {},
     "output_type": "execute_result"
    }
   ],
   "source": [
    "df_2 = pd.read_csv('C:/Windows/[2380861]python38_64bit_base/notebooks/news_data_46129.csv') # \n",
    "df_2.head()"
   ]
  },
  {
   "cell_type": "markdown",
   "id": "34d14a71",
   "metadata": {},
   "source": [
    "# 데이터 전처리 "
   ]
  },
  {
   "cell_type": "code",
   "execution_count": 6,
   "id": "026f7f65",
   "metadata": {},
   "outputs": [],
   "source": [
    "# clean _text 함수 \n",
    "def clean_text(x):\n",
    "  sample_0=re.sub(r'\\([^)]*\\)|\\[[^)]*\\]', '', x) # 괄호 및 괄호안 텍스트 제거 \n",
    "  sample_1 = re.sub(r'\\/조선DB|\\/AFP 연합뉴스|\\/연합뉴스|연합뉴스','',sample_0) # /조선DB /AFG 연합뉴스 꼬리말 제거 \n",
    "  sample_2 = re.sub('\\s|[^0-9a-zA-Z가-힣]',' ',sample_1) # 공백, 문자 숫자 외 제거 특수문자 제거 \n",
    "  sample_3 = re.sub('\\s{2,}',' ',sample_2)  # 공백 2개 이상 제거 \n",
    "  return sample_3 "
   ]
  },
  {
   "cell_type": "code",
   "execution_count": 8,
   "id": "928521bf",
   "metadata": {},
   "outputs": [
    {
     "data": {
      "text/plain": [
       "0    25일(현지 시각) 우크라이나 현지 매체 HB는 트위터에 30초짜리 짧은 영상과 함...\n",
       "1    에마뉘엘 마크롱 프랑스 대통령이 10일(현지시간) 동부 벨포르에서 원자력 발전용 증...\n",
       "2    [경향신문] 정의용 외교부 장관이 25일 전 재외공관장과 화상 회의를 열어 발언하고...\n",
       "3    승려들은 왜 반발할까관리자 존재하지만한 쪽으로 치우친 ‘사찰 부지 공공재’ 인식사찰...\n",
       "4    사진 '가비엔제이' 제니 인스타그램 캡처.           그룹 가비엔제이 제니와...\n",
       "Name: content, dtype: object"
      ]
     },
     "execution_count": 8,
     "metadata": {},
     "output_type": "execute_result"
    }
   ],
   "source": [
    "content = df['content']\n",
    "content.head()"
   ]
  },
  {
   "cell_type": "code",
   "execution_count": 11,
   "id": "dba05fbd",
   "metadata": {},
   "outputs": [
    {
     "data": {
      "text/plain": [
       "'신규 확진자 5만명 넘어 급증 상황… 정부 대응 부실24시간 의료상담센터 전국 145곳… 지역별 편차 커    지난 7일 서울 영등포구 서울시 재택치료 지원센터에서 한 의료진이 재택치료 상담을 하고 있다. 뉴스1    신종 코로나바이러스 감염증(코로나19) 확진자의 재택치료 체계가 전환됐지만 곳곳에서 혼선이 빚어지고 있다. 정부는 일반관리군의 경우 “평소 다니던 동네의원과 상담하라”고 했지만, 동네의원은 그런 상황이 아니라고 다른 말을 한다. 집중관리군 기준을 두고도 오락가락했다. 코로나19 하루 확진자가 5만명을 넘어 급증하는 상황에서 대응은 부실하기만 하다.   10일 중앙재난안전대책본부에 따르면 이날부터 재택치료자는 집중관리군과 일반관리군으로 구분되고, 집중관리군은 관리의료기관의 건강모니터링을, 일반관리군은 스스로 필요할 경우 병·의원에서 비대면 진료를 받는 체계가 운영된다.   정부는 전날에도 증상이 있다면 평소 다니던 동네 병·의원에 전화 상담을 통해 비대면 진료와 해열제 등 약 처방을 받을 수 있다고 설명했다.   그러나 이날 건강보험심사평원 홈페이지에 공개된 ‘일반관리군 재택치료자 전화 상담·처방 가능 의료기관’은 오전 9시기준 전국 1856곳이다. 여기엔 기존 호흡기전담클리닉, 호흡기진료지정의료기관이 포함돼 있다. 아무 병원에서나 가능하다고 하던 정부 설명과는 다르다.  24시간 기초의료 상담을 제공하는 재택치료 의료상담센터는 전국 145곳이 만들어졌다. 지역별 편차가 크다. 서울의 경우 2곳이 강북권, 강남권을 담당한다.      지난 9일 경기도 군포시 휴마시스 공장에서 직원들이 신속항원검사 키트를 포장하고 있다. 뉴시스    재택치료자들의 약을 조제·배달하는 코로나19 지정약국은 전국 472곳이다. 비수도권 소규모 시군은 그 지역에 1개, 서울도 각 구마다 1~2개가 있어 약을 대리 수령해야 하는 동거가족의 이동 동선이 길 것으로 보인다.   재택치료 관리 체계 전환을 둘러싼 혼란은 전날부터 발생했다. 전날 오전 브리핑에서 집중관리군 기준을 △60세 이상 고령층 △코로나19 경구용 치료제 팍스로비드 처방자 중 지방자치단체에서 집중관리가 필요하다고 판단되는 환자라고 발표했다. 지난 7일 △60세 이상 △50세 이상 면역저하자 또는 기저질환자를 집중관리군으로 발표했으나 범위를 줄인 것이다.   당뇨·고혈압 등 기저질환을 가지고 있지만, 먹는 치료제를 처방받지 않은 50대는 일반관리군이 되면서 논란이 일었다.    그러자 정부는 전날 오후 11시가 넘어 보도참고자료를 내고 다시 재택치료 집중관리군 대상자 기준을 다시 △60세 이상 △먹는 치료제 투약 대상자로서 지자체가 집중관리가 필요하다고 판단하는 자로 변경했다. 50대 이상 고위험·기저질환자에는 고혈압 등 심혈관질환, 당뇨, 만성 신장질환, 천식 등 만성 폐쇄성폐질환, 활동성 암, 과체중, 인체면역결핍질환 등이 포함된다. 면역저하자에는 자가면역질환자, 인체면역결핍바이러스(HIV) 감염자, B-세포 표적치료 또는 고형장기 이식 중인 1년 이내 환자, 스테로이드제재 등 면역억제 투약 환자 등이 속한다.'"
      ]
     },
     "execution_count": 11,
     "metadata": {},
     "output_type": "execute_result"
    }
   ],
   "source": [
    "content[8]"
   ]
  },
  {
   "cell_type": "code",
   "execution_count": 36,
   "id": "1e0c77e8",
   "metadata": {},
   "outputs": [],
   "source": [
    "data= clean_text(content[8])"
   ]
  },
  {
   "cell_type": "markdown",
   "id": "65b3a2ae",
   "metadata": {},
   "source": [
    "## 유사어 처리"
   ]
  },
  {
   "cell_type": "code",
   "execution_count": 50,
   "id": "cea27181",
   "metadata": {},
   "outputs": [],
   "source": [
    "##################### \n",
    "## 동의어 처리하기### \n",
    "########################\n",
    "dic_chng = {'코로나':['코로나 19','코로나19','covid-19','신종 코로나바이러스 감염증']\n",
    "           ,'HIV':['인체면역결핍바이러스']\n",
    "             }\n",
    "# chng_map = {word:k for k, v in dic_chng.items() for word in v}\n",
    "# df['changed2'] = df.document.replace(chng_map, regex=True) "
   ]
  },
  {
   "cell_type": "code",
   "execution_count": 51,
   "id": "9e2ca0a7",
   "metadata": {},
   "outputs": [],
   "source": [
    "chng_map = {word:k for k,v in dic_chng.items() for word in v}"
   ]
  },
  {
   "cell_type": "code",
   "execution_count": 55,
   "id": "1c59ac7d",
   "metadata": {},
   "outputs": [
    {
     "data": {
      "text/plain": [
       "{'코로나': ['코로나 19', '코로나19', 'covid-19', '신종 코로나바이러스 감염증'],\n",
       " 'HIV': ['인체면역결핍바이러스']}"
      ]
     },
     "execution_count": 55,
     "metadata": {},
     "output_type": "execute_result"
    }
   ],
   "source": [
    "dic_chng"
   ]
  },
  {
   "cell_type": "code",
   "execution_count": 56,
   "id": "19d1222e",
   "metadata": {},
   "outputs": [
    {
     "data": {
      "text/plain": [
       "{'코로나 19': '코로나',\n",
       " '코로나19': '코로나',\n",
       " 'covid-19': '코로나',\n",
       " '신종 코로나바이러스 감염증': '코로나',\n",
       " '인체면역결핍바이러스': 'HIV'}"
      ]
     },
     "execution_count": 56,
     "metadata": {},
     "output_type": "execute_result"
    }
   ],
   "source": [
    "chng_map"
   ]
  },
  {
   "cell_type": "code",
   "execution_count": null,
   "id": "63bb760a",
   "metadata": {},
   "outputs": [],
   "source": [
    "# data.replace(chng_map,regex=True)  # 이거는 오류남 data가 스칼라이면 적용되지 않은 replace 가 "
   ]
  },
  {
   "cell_type": "code",
   "execution_count": 52,
   "id": "8b296dc9",
   "metadata": {},
   "outputs": [
    {
     "data": {
      "text/plain": [
       "6    [경향신문] 권영세 국민의힘 선거대책본부장이 14일 오전 서울 여의도 국회에서 열린...\n",
       "7    법원 “서울 대원·영훈 지위 유지”조희연 “판결 유감”… 즉시 항소서울 대원·영훈 ...\n",
       "8    신규 확진자 5만명 넘어 급증 상황… 정부 대응 부실24시간 의료상담센터 전국 14...\n",
       "Name: content, dtype: object"
      ]
     },
     "execution_count": 52,
     "metadata": {},
     "output_type": "execute_result"
    }
   ],
   "source": [
    "content_sample = content[6:9]\n",
    "content_sample"
   ]
  },
  {
   "cell_type": "code",
   "execution_count": 53,
   "id": "9d1d1402",
   "metadata": {
    "scrolled": false
   },
   "outputs": [
    {
     "data": {
      "text/plain": [
       "'신규 확진자 5만명 넘어 급증 상황… 정부 대응 부실24시간 의료상담센터 전국 145곳… 지역별 편차 커    지난 7일 서울 영등포구 서울시 재택치료 지원센터에서 한 의료진이 재택치료 상담을 하고 있다. 뉴스1    코로나(코로나) 확진자의 재택치료 체계가 전환됐지만 곳곳에서 혼선이 빚어지고 있다. 정부는 일반관리군의 경우 “평소 다니던 동네의원과 상담하라”고 했지만, 동네의원은 그런 상황이 아니라고 다른 말을 한다. 집중관리군 기준을 두고도 오락가락했다. 코로나 하루 확진자가 5만명을 넘어 급증하는 상황에서 대응은 부실하기만 하다.   10일 중앙재난안전대책본부에 따르면 이날부터 재택치료자는 집중관리군과 일반관리군으로 구분되고, 집중관리군은 관리의료기관의 건강모니터링을, 일반관리군은 스스로 필요할 경우 병·의원에서 비대면 진료를 받는 체계가 운영된다.   정부는 전날에도 증상이 있다면 평소 다니던 동네 병·의원에 전화 상담을 통해 비대면 진료와 해열제 등 약 처방을 받을 수 있다고 설명했다.   그러나 이날 건강보험심사평원 홈페이지에 공개된 ‘일반관리군 재택치료자 전화 상담·처방 가능 의료기관’은 오전 9시기준 전국 1856곳이다. 여기엔 기존 호흡기전담클리닉, 호흡기진료지정의료기관이 포함돼 있다. 아무 병원에서나 가능하다고 하던 정부 설명과는 다르다.  24시간 기초의료 상담을 제공하는 재택치료 의료상담센터는 전국 145곳이 만들어졌다. 지역별 편차가 크다. 서울의 경우 2곳이 강북권, 강남권을 담당한다.      지난 9일 경기도 군포시 휴마시스 공장에서 직원들이 신속항원검사 키트를 포장하고 있다. 뉴시스    재택치료자들의 약을 조제·배달하는 코로나 지정약국은 전국 472곳이다. 비수도권 소규모 시군은 그 지역에 1개, 서울도 각 구마다 1~2개가 있어 약을 대리 수령해야 하는 동거가족의 이동 동선이 길 것으로 보인다.   재택치료 관리 체계 전환을 둘러싼 혼란은 전날부터 발생했다. 전날 오전 브리핑에서 집중관리군 기준을 △60세 이상 고령층 △코로나 경구용 치료제 팍스로비드 처방자 중 지방자치단체에서 집중관리가 필요하다고 판단되는 환자라고 발표했다. 지난 7일 △60세 이상 △50세 이상 면역저하자 또는 기저질환자를 집중관리군으로 발표했으나 범위를 줄인 것이다.   당뇨·고혈압 등 기저질환을 가지고 있지만, 먹는 치료제를 처방받지 않은 50대는 일반관리군이 되면서 논란이 일었다.    그러자 정부는 전날 오후 11시가 넘어 보도참고자료를 내고 다시 재택치료 집중관리군 대상자 기준을 다시 △60세 이상 △먹는 치료제 투약 대상자로서 지자체가 집중관리가 필요하다고 판단하는 자로 변경했다. 50대 이상 고위험·기저질환자에는 고혈압 등 심혈관질환, 당뇨, 만성 신장질환, 천식 등 만성 폐쇄성폐질환, 활동성 암, 과체중, 인체면역결핍질환 등이 포함된다. 면역저하자에는 자가면역질환자, HIV(HIV) 감염자, B-세포 표적치료 또는 고형장기 이식 중인 1년 이내 환자, 스테로이드제재 등 면역억제 투약 환자 등이 속한다.'"
      ]
     },
     "execution_count": 53,
     "metadata": {},
     "output_type": "execute_result"
    }
   ],
   "source": [
    "content_sample.replace(chng_map,regex=True)[8] # 스칼라는 안되고 리스트 형태로 들어가야 됨 "
   ]
  },
  {
   "cell_type": "code",
   "execution_count": null,
   "id": "e1ca7438",
   "metadata": {},
   "outputs": [],
   "source": []
  }
 ],
 "metadata": {
  "kernelspec": {
   "display_name": "Python 3 (ipykernel)",
   "language": "python",
   "name": "python3"
  },
  "language_info": {
   "codemirror_mode": {
    "name": "ipython",
    "version": 3
   },
   "file_extension": ".py",
   "mimetype": "text/x-python",
   "name": "python",
   "nbconvert_exporter": "python",
   "pygments_lexer": "ipython3",
   "version": "3.8.9"
  }
 },
 "nbformat": 4,
 "nbformat_minor": 5
}
