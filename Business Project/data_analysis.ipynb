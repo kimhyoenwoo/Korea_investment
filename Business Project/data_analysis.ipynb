{
  "nbformat": 4,
  "nbformat_minor": 0,
  "metadata": {
    "colab": {
      "name": "data_analysis",
      "provenance": []
    },
    "kernelspec": {
      "name": "python3",
      "display_name": "Python 3"
    },
    "language_info": {
      "name": "python"
    }
  },
  "cells": [
    {
      "cell_type": "code",
      "execution_count": 1,
      "metadata": {
        "id": "_QyunZa51YTd"
      },
      "outputs": [],
      "source": [
        "import pandas as pd\n",
        "import numpy as np \n",
        "import re "
      ]
    },
    {
      "cell_type": "code",
      "source": [
        "df = pd.read_csv('/content/news_data_20335.csv',)\n",
        "df.head()"
      ],
      "metadata": {
        "colab": {
          "base_uri": "https://localhost:8080/",
          "height": 206
        },
        "id": "MnmJlndr1joB",
        "outputId": "81a6382f-bb94-4788-9cd8-c9663ebbdc7a"
      },
      "execution_count": 2,
      "outputs": [
        {
          "output_type": "execute_result",
          "data": {
            "text/plain": [
              "   Unnamed: 0                  date  \\\n",
              "0           0   2022.02.26. 오후 3:45   \n",
              "1           1   2022.02.14. 오전 3:03   \n",
              "2           2   2022.02.26. 오전 9:21   \n",
              "3           3  2022.02.02. 오전 10:57   \n",
              "4           4   2022.02.13. 오후 4:48   \n",
              "\n",
              "                                             content  \n",
              "0  25일(현지 시각) 우크라이나 현지 매체 HB는 트위터에 30초짜리 짧은 영상과 함...  \n",
              "1  에마뉘엘 마크롱 프랑스 대통령이 10일(현지시간) 동부 벨포르에서 원자력 발전용 증...  \n",
              "2  [경향신문] 정의용 외교부 장관이 25일 전 재외공관장과 화상 회의를 열어 발언하고...  \n",
              "3  승려들은 왜 반발할까관리자 존재하지만한 쪽으로 치우친 ‘사찰 부지 공공재’ 인식사찰...  \n",
              "4  사진 '가비엔제이' 제니 인스타그램 캡처.           그룹 가비엔제이 제니와...  "
            ],
            "text/html": [
              "\n",
              "  <div id=\"df-80b51c64-d763-41e6-8426-d6c9885c8952\">\n",
              "    <div class=\"colab-df-container\">\n",
              "      <div>\n",
              "<style scoped>\n",
              "    .dataframe tbody tr th:only-of-type {\n",
              "        vertical-align: middle;\n",
              "    }\n",
              "\n",
              "    .dataframe tbody tr th {\n",
              "        vertical-align: top;\n",
              "    }\n",
              "\n",
              "    .dataframe thead th {\n",
              "        text-align: right;\n",
              "    }\n",
              "</style>\n",
              "<table border=\"1\" class=\"dataframe\">\n",
              "  <thead>\n",
              "    <tr style=\"text-align: right;\">\n",
              "      <th></th>\n",
              "      <th>Unnamed: 0</th>\n",
              "      <th>date</th>\n",
              "      <th>content</th>\n",
              "    </tr>\n",
              "  </thead>\n",
              "  <tbody>\n",
              "    <tr>\n",
              "      <th>0</th>\n",
              "      <td>0</td>\n",
              "      <td>2022.02.26. 오후 3:45</td>\n",
              "      <td>25일(현지 시각) 우크라이나 현지 매체 HB는 트위터에 30초짜리 짧은 영상과 함...</td>\n",
              "    </tr>\n",
              "    <tr>\n",
              "      <th>1</th>\n",
              "      <td>1</td>\n",
              "      <td>2022.02.14. 오전 3:03</td>\n",
              "      <td>에마뉘엘 마크롱 프랑스 대통령이 10일(현지시간) 동부 벨포르에서 원자력 발전용 증...</td>\n",
              "    </tr>\n",
              "    <tr>\n",
              "      <th>2</th>\n",
              "      <td>2</td>\n",
              "      <td>2022.02.26. 오전 9:21</td>\n",
              "      <td>[경향신문] 정의용 외교부 장관이 25일 전 재외공관장과 화상 회의를 열어 발언하고...</td>\n",
              "    </tr>\n",
              "    <tr>\n",
              "      <th>3</th>\n",
              "      <td>3</td>\n",
              "      <td>2022.02.02. 오전 10:57</td>\n",
              "      <td>승려들은 왜 반발할까관리자 존재하지만한 쪽으로 치우친 ‘사찰 부지 공공재’ 인식사찰...</td>\n",
              "    </tr>\n",
              "    <tr>\n",
              "      <th>4</th>\n",
              "      <td>4</td>\n",
              "      <td>2022.02.13. 오후 4:48</td>\n",
              "      <td>사진 '가비엔제이' 제니 인스타그램 캡처.           그룹 가비엔제이 제니와...</td>\n",
              "    </tr>\n",
              "  </tbody>\n",
              "</table>\n",
              "</div>\n",
              "      <button class=\"colab-df-convert\" onclick=\"convertToInteractive('df-80b51c64-d763-41e6-8426-d6c9885c8952')\"\n",
              "              title=\"Convert this dataframe to an interactive table.\"\n",
              "              style=\"display:none;\">\n",
              "        \n",
              "  <svg xmlns=\"http://www.w3.org/2000/svg\" height=\"24px\"viewBox=\"0 0 24 24\"\n",
              "       width=\"24px\">\n",
              "    <path d=\"M0 0h24v24H0V0z\" fill=\"none\"/>\n",
              "    <path d=\"M18.56 5.44l.94 2.06.94-2.06 2.06-.94-2.06-.94-.94-2.06-.94 2.06-2.06.94zm-11 1L8.5 8.5l.94-2.06 2.06-.94-2.06-.94L8.5 2.5l-.94 2.06-2.06.94zm10 10l.94 2.06.94-2.06 2.06-.94-2.06-.94-.94-2.06-.94 2.06-2.06.94z\"/><path d=\"M17.41 7.96l-1.37-1.37c-.4-.4-.92-.59-1.43-.59-.52 0-1.04.2-1.43.59L10.3 9.45l-7.72 7.72c-.78.78-.78 2.05 0 2.83L4 21.41c.39.39.9.59 1.41.59.51 0 1.02-.2 1.41-.59l7.78-7.78 2.81-2.81c.8-.78.8-2.07 0-2.86zM5.41 20L4 18.59l7.72-7.72 1.47 1.35L5.41 20z\"/>\n",
              "  </svg>\n",
              "      </button>\n",
              "      \n",
              "  <style>\n",
              "    .colab-df-container {\n",
              "      display:flex;\n",
              "      flex-wrap:wrap;\n",
              "      gap: 12px;\n",
              "    }\n",
              "\n",
              "    .colab-df-convert {\n",
              "      background-color: #E8F0FE;\n",
              "      border: none;\n",
              "      border-radius: 50%;\n",
              "      cursor: pointer;\n",
              "      display: none;\n",
              "      fill: #1967D2;\n",
              "      height: 32px;\n",
              "      padding: 0 0 0 0;\n",
              "      width: 32px;\n",
              "    }\n",
              "\n",
              "    .colab-df-convert:hover {\n",
              "      background-color: #E2EBFA;\n",
              "      box-shadow: 0px 1px 2px rgba(60, 64, 67, 0.3), 0px 1px 3px 1px rgba(60, 64, 67, 0.15);\n",
              "      fill: #174EA6;\n",
              "    }\n",
              "\n",
              "    [theme=dark] .colab-df-convert {\n",
              "      background-color: #3B4455;\n",
              "      fill: #D2E3FC;\n",
              "    }\n",
              "\n",
              "    [theme=dark] .colab-df-convert:hover {\n",
              "      background-color: #434B5C;\n",
              "      box-shadow: 0px 1px 3px 1px rgba(0, 0, 0, 0.15);\n",
              "      filter: drop-shadow(0px 1px 2px rgba(0, 0, 0, 0.3));\n",
              "      fill: #FFFFFF;\n",
              "    }\n",
              "  </style>\n",
              "\n",
              "      <script>\n",
              "        const buttonEl =\n",
              "          document.querySelector('#df-80b51c64-d763-41e6-8426-d6c9885c8952 button.colab-df-convert');\n",
              "        buttonEl.style.display =\n",
              "          google.colab.kernel.accessAllowed ? 'block' : 'none';\n",
              "\n",
              "        async function convertToInteractive(key) {\n",
              "          const element = document.querySelector('#df-80b51c64-d763-41e6-8426-d6c9885c8952');\n",
              "          const dataTable =\n",
              "            await google.colab.kernel.invokeFunction('convertToInteractive',\n",
              "                                                     [key], {});\n",
              "          if (!dataTable) return;\n",
              "\n",
              "          const docLinkHtml = 'Like what you see? Visit the ' +\n",
              "            '<a target=\"_blank\" href=https://colab.research.google.com/notebooks/data_table.ipynb>data table notebook</a>'\n",
              "            + ' to learn more about interactive tables.';\n",
              "          element.innerHTML = '';\n",
              "          dataTable['output_type'] = 'display_data';\n",
              "          await google.colab.output.renderOutput(dataTable, element);\n",
              "          const docLink = document.createElement('div');\n",
              "          docLink.innerHTML = docLinkHtml;\n",
              "          element.appendChild(docLink);\n",
              "        }\n",
              "      </script>\n",
              "    </div>\n",
              "  </div>\n",
              "  "
            ]
          },
          "metadata": {},
          "execution_count": 2
        }
      ]
    },
    {
      "cell_type": "code",
      "source": [
        "lst =[]\n",
        "for i in range(len(df)):\n",
        "  txt = df['content'][i]\n",
        "  lst.append(txt)\n",
        "  # print(txt) "
      ],
      "metadata": {
        "id": "rNpv3qjg6x8Q"
      },
      "execution_count": 3,
      "outputs": []
    },
    {
      "cell_type": "code",
      "source": [
        "lst = [df['content'][i] for i in range(len(df))]"
      ],
      "metadata": {
        "id": "AqXSMYuE6zKF"
      },
      "execution_count": 4,
      "outputs": []
    },
    {
      "cell_type": "code",
      "source": [
        "# clean _text 함수 \n",
        "def clean_text(x):\n",
        "  sample_0=re.sub(r'\\([^)]*\\)|\\[[^)]*\\]', '', x) # 괄호 및 괄호안 텍스트 제거 \n",
        "  sample_1 = re.sub(r'\\/조선DB|\\/AFP 연합뉴스|\\/연합뉴스|연합뉴스','',sample_0) # /조선DB /AFG 연합뉴스 꼬리말 제거 \n",
        "  sample_2 = re.sub('\\s|[^0-9a-zA-Z가-힣]',' ',sample_1) # 공백, 문자 숫자 외 제거 특수문자 제거 \n",
        "  sample_3 = re.sub('\\s{2,}',' ',sample_2)  # 공백 2개 이상 제거 \n",
        "  return sample_3 "
      ],
      "metadata": {
        "id": "XsILFpLB6Rpi"
      },
      "execution_count": 5,
      "outputs": []
    },
    {
      "cell_type": "markdown",
      "source": [
        "#Date 수정 "
      ],
      "metadata": {
        "id": "inKH0Str3bX2"
      }
    },
    {
      "cell_type": "code",
      "source": [
        "date = df['date']\n",
        "date"
      ],
      "metadata": {
        "colab": {
          "base_uri": "https://localhost:8080/"
        },
        "id": "4lAbgZX23Icc",
        "outputId": "583df8d9-17cf-4431-a37b-f459585b2b6e"
      },
      "execution_count": 6,
      "outputs": [
        {
          "output_type": "execute_result",
          "data": {
            "text/plain": [
              "0         2022.02.26. 오후 3:45\n",
              "1         2022.02.14. 오전 3:03\n",
              "2         2022.02.26. 오전 9:21\n",
              "3        2022.02.02. 오전 10:57\n",
              "4         2022.02.13. 오후 4:48\n",
              "                 ...         \n",
              "18976     2022.02.17. 오전 8:20\n",
              "18977    2022.02.14. 오후 10:02\n",
              "18978     2022.02.21. 오후 4:01\n",
              "18979     2022.02.24. 오전 4:31\n",
              "18980     2022.02.15. 오전 7:08\n",
              "Name: date, Length: 18981, dtype: object"
            ]
          },
          "metadata": {},
          "execution_count": 6
        }
      ]
    },
    {
      "cell_type": "code",
      "source": [
        "p=re.compile(('\\w{4}.\\w+.\\w+'))\n",
        "m = p.search(date[0])\n",
        "m.group()"
      ],
      "metadata": {
        "colab": {
          "base_uri": "https://localhost:8080/",
          "height": 36
        },
        "id": "VjMaAVXw3eQC",
        "outputId": "8a03733a-3255-4645-f138-370049e30b4d"
      },
      "execution_count": 7,
      "outputs": [
        {
          "output_type": "execute_result",
          "data": {
            "text/plain": [
              "'2022.02.26'"
            ],
            "application/vnd.google.colaboratory.intrinsic+json": {
              "type": "string"
            }
          },
          "metadata": {},
          "execution_count": 7
        }
      ]
    },
    {
      "cell_type": "code",
      "source": [
        "date_lst =[]\n",
        "for i in date:\n",
        "  m = p.search(i)\n",
        "  date_lst.append(m.group())\n",
        "\n",
        "# date_lst # date 리스트 추출 \n"
      ],
      "metadata": {
        "id": "DMuoog6c3f4_"
      },
      "execution_count": 8,
      "outputs": []
    },
    {
      "cell_type": "code",
      "source": [
        "#연월일 추출 "
      ],
      "metadata": {
        "id": "x4esTXVj3nH7"
      },
      "execution_count": 9,
      "outputs": []
    },
    {
      "cell_type": "code",
      "source": [
        "# 연월일 추출 \n",
        "year  = []\n",
        "month =[]\n",
        "day = []\n",
        "for idx, i in enumerate(date_lst):\n",
        "  date_split = date_lst[idx].split('.')\n",
        "  year.append(date_split[0])\n",
        "  month.append(date_split[1])\n",
        "  day.append(date_split[2])\n"
      ],
      "metadata": {
        "id": "s2ceIkyW3sCG"
      },
      "execution_count": 10,
      "outputs": []
    },
    {
      "cell_type": "code",
      "source": [
        "# 연월일 데이터 셋 형성 \n",
        "date_df = pd.DataFrame({'Year':year,'Month':month,'Day':day})\n",
        "date_df.head()"
      ],
      "metadata": {
        "colab": {
          "base_uri": "https://localhost:8080/",
          "height": 206
        },
        "id": "MWCEU2Qn3sWA",
        "outputId": "69748df1-439e-49c2-8e4f-85e1249b3e1e"
      },
      "execution_count": 11,
      "outputs": [
        {
          "output_type": "execute_result",
          "data": {
            "text/plain": [
              "   Year Month Day\n",
              "0  2022    02  26\n",
              "1  2022    02  14\n",
              "2  2022    02  26\n",
              "3  2022    02  02\n",
              "4  2022    02  13"
            ],
            "text/html": [
              "\n",
              "  <div id=\"df-83a42c60-5d84-4394-9da6-7d2559e3ba34\">\n",
              "    <div class=\"colab-df-container\">\n",
              "      <div>\n",
              "<style scoped>\n",
              "    .dataframe tbody tr th:only-of-type {\n",
              "        vertical-align: middle;\n",
              "    }\n",
              "\n",
              "    .dataframe tbody tr th {\n",
              "        vertical-align: top;\n",
              "    }\n",
              "\n",
              "    .dataframe thead th {\n",
              "        text-align: right;\n",
              "    }\n",
              "</style>\n",
              "<table border=\"1\" class=\"dataframe\">\n",
              "  <thead>\n",
              "    <tr style=\"text-align: right;\">\n",
              "      <th></th>\n",
              "      <th>Year</th>\n",
              "      <th>Month</th>\n",
              "      <th>Day</th>\n",
              "    </tr>\n",
              "  </thead>\n",
              "  <tbody>\n",
              "    <tr>\n",
              "      <th>0</th>\n",
              "      <td>2022</td>\n",
              "      <td>02</td>\n",
              "      <td>26</td>\n",
              "    </tr>\n",
              "    <tr>\n",
              "      <th>1</th>\n",
              "      <td>2022</td>\n",
              "      <td>02</td>\n",
              "      <td>14</td>\n",
              "    </tr>\n",
              "    <tr>\n",
              "      <th>2</th>\n",
              "      <td>2022</td>\n",
              "      <td>02</td>\n",
              "      <td>26</td>\n",
              "    </tr>\n",
              "    <tr>\n",
              "      <th>3</th>\n",
              "      <td>2022</td>\n",
              "      <td>02</td>\n",
              "      <td>02</td>\n",
              "    </tr>\n",
              "    <tr>\n",
              "      <th>4</th>\n",
              "      <td>2022</td>\n",
              "      <td>02</td>\n",
              "      <td>13</td>\n",
              "    </tr>\n",
              "  </tbody>\n",
              "</table>\n",
              "</div>\n",
              "      <button class=\"colab-df-convert\" onclick=\"convertToInteractive('df-83a42c60-5d84-4394-9da6-7d2559e3ba34')\"\n",
              "              title=\"Convert this dataframe to an interactive table.\"\n",
              "              style=\"display:none;\">\n",
              "        \n",
              "  <svg xmlns=\"http://www.w3.org/2000/svg\" height=\"24px\"viewBox=\"0 0 24 24\"\n",
              "       width=\"24px\">\n",
              "    <path d=\"M0 0h24v24H0V0z\" fill=\"none\"/>\n",
              "    <path d=\"M18.56 5.44l.94 2.06.94-2.06 2.06-.94-2.06-.94-.94-2.06-.94 2.06-2.06.94zm-11 1L8.5 8.5l.94-2.06 2.06-.94-2.06-.94L8.5 2.5l-.94 2.06-2.06.94zm10 10l.94 2.06.94-2.06 2.06-.94-2.06-.94-.94-2.06-.94 2.06-2.06.94z\"/><path d=\"M17.41 7.96l-1.37-1.37c-.4-.4-.92-.59-1.43-.59-.52 0-1.04.2-1.43.59L10.3 9.45l-7.72 7.72c-.78.78-.78 2.05 0 2.83L4 21.41c.39.39.9.59 1.41.59.51 0 1.02-.2 1.41-.59l7.78-7.78 2.81-2.81c.8-.78.8-2.07 0-2.86zM5.41 20L4 18.59l7.72-7.72 1.47 1.35L5.41 20z\"/>\n",
              "  </svg>\n",
              "      </button>\n",
              "      \n",
              "  <style>\n",
              "    .colab-df-container {\n",
              "      display:flex;\n",
              "      flex-wrap:wrap;\n",
              "      gap: 12px;\n",
              "    }\n",
              "\n",
              "    .colab-df-convert {\n",
              "      background-color: #E8F0FE;\n",
              "      border: none;\n",
              "      border-radius: 50%;\n",
              "      cursor: pointer;\n",
              "      display: none;\n",
              "      fill: #1967D2;\n",
              "      height: 32px;\n",
              "      padding: 0 0 0 0;\n",
              "      width: 32px;\n",
              "    }\n",
              "\n",
              "    .colab-df-convert:hover {\n",
              "      background-color: #E2EBFA;\n",
              "      box-shadow: 0px 1px 2px rgba(60, 64, 67, 0.3), 0px 1px 3px 1px rgba(60, 64, 67, 0.15);\n",
              "      fill: #174EA6;\n",
              "    }\n",
              "\n",
              "    [theme=dark] .colab-df-convert {\n",
              "      background-color: #3B4455;\n",
              "      fill: #D2E3FC;\n",
              "    }\n",
              "\n",
              "    [theme=dark] .colab-df-convert:hover {\n",
              "      background-color: #434B5C;\n",
              "      box-shadow: 0px 1px 3px 1px rgba(0, 0, 0, 0.15);\n",
              "      filter: drop-shadow(0px 1px 2px rgba(0, 0, 0, 0.3));\n",
              "      fill: #FFFFFF;\n",
              "    }\n",
              "  </style>\n",
              "\n",
              "      <script>\n",
              "        const buttonEl =\n",
              "          document.querySelector('#df-83a42c60-5d84-4394-9da6-7d2559e3ba34 button.colab-df-convert');\n",
              "        buttonEl.style.display =\n",
              "          google.colab.kernel.accessAllowed ? 'block' : 'none';\n",
              "\n",
              "        async function convertToInteractive(key) {\n",
              "          const element = document.querySelector('#df-83a42c60-5d84-4394-9da6-7d2559e3ba34');\n",
              "          const dataTable =\n",
              "            await google.colab.kernel.invokeFunction('convertToInteractive',\n",
              "                                                     [key], {});\n",
              "          if (!dataTable) return;\n",
              "\n",
              "          const docLinkHtml = 'Like what you see? Visit the ' +\n",
              "            '<a target=\"_blank\" href=https://colab.research.google.com/notebooks/data_table.ipynb>data table notebook</a>'\n",
              "            + ' to learn more about interactive tables.';\n",
              "          element.innerHTML = '';\n",
              "          dataTable['output_type'] = 'display_data';\n",
              "          await google.colab.output.renderOutput(dataTable, element);\n",
              "          const docLink = document.createElement('div');\n",
              "          docLink.innerHTML = docLinkHtml;\n",
              "          element.appendChild(docLink);\n",
              "        }\n",
              "      </script>\n",
              "    </div>\n",
              "  </div>\n",
              "  "
            ]
          },
          "metadata": {},
          "execution_count": 11
        }
      ]
    },
    {
      "cell_type": "code",
      "source": [
        "print(date_df.shape)\n",
        "print(df.shape)"
      ],
      "metadata": {
        "colab": {
          "base_uri": "https://localhost:8080/"
        },
        "id": "B9dP-vcI5-Ew",
        "outputId": "35092d6e-19b5-4b63-da3c-2be0dcb6d270"
      },
      "execution_count": 12,
      "outputs": [
        {
          "output_type": "stream",
          "name": "stdout",
          "text": [
            "(18981, 3)\n",
            "(18981, 3)\n"
          ]
        }
      ]
    },
    {
      "cell_type": "markdown",
      "source": [
        "#Data 체크 "
      ],
      "metadata": {
        "id": "nNu7a8udFdSm"
      }
    },
    {
      "cell_type": "code",
      "source": [
        "lst[135]"
      ],
      "metadata": {
        "colab": {
          "base_uri": "https://localhost:8080/",
          "height": 147
        },
        "id": "wumYj6bSFftu",
        "outputId": "4b10b3b2-e3cd-4d2c-f794-0e23a4058486"
      },
      "execution_count": 13,
      "outputs": [
        {
          "output_type": "execute_result",
          "data": {
            "text/plain": [
              "'현대차가 친환경 수소전기버스 \\'일렉시티 FCEV\\'를 오스트리아 대중교통 기업 \\'비너 리니엔\\'(Wiener Linien)에 공급했으며, 빈 시내에서 시민들이 가장 많이 탑승하는 노선에 우선 투입돼 운행을 시작했다고 27일 밝혔다. 사진은 오스트리아 시내버스 노선에 투입된 현대차 수소전기버스. 연합뉴스       현대차의 친환경 수소전기버스가 오스트리아 수도 빈의 시내버스 정규노선에 투입됐다.      현대차는 수소전기버스 \\'일렉시티 FCEV\\'가 빈 시내에서 시민들이 가장 많이 탑승하는 노선에 우선 투입돼 운행을 시작했다고 27일 밝혔다.      현대차는 오스트리아 정부의 수소 인프라 확충 및 사업 주도를 위한 \\'하이버스 프로젝트\\'(HyBus Project) 일환으로 일렉시티 FCEV 3대를 오스트리아 대중교통 기업 \\'비너리니엔\\'(Wiener Linien)에 공급했다.      현대차가 외국에 수소전기버스를 시내버스용으로 수출한 것은 이번이 처음이다.      현대차가 친환경 수소전기버스 \\'일렉시티 FCEV\\'를 오스트리아 대중교통 기업 \\'비너 리니엔\\'(Wiener Linien)에 공급했으며, 빈 시내에서 시민들이 가장 많이 탑승하는 노선에 우선 투입돼 운행을 시작했다고 27일 밝혔다. 사진은 오스트리아 시내버스 노선에 투입된 현대차 수소전기버스. 연합뉴스       일렉시티 FCEV는 빈을 시작으로 그라츠, 잘츠부르크 등 오스트리아 주요 도시의 다양한 노선에서 순차적으로 운행된다. 현대차에 따르면 일렉시티 FCEV는 우수한 성능의 연료전지 시스템과 동급 최대 용량의 수소 탱크를 적용해 1회 충전으로 최대 550㎞를 주행할 수 있다.      현대차는 \"긴 주행거리와 짧은 충전 시간 등 우수한 상품성을 갖춰 차량 밀도가 높고 신호등 간 거리가 짧은 빈의 도로 요건에 적합하다는 평가를 받아 하이버스 프로젝트의 파트너로 선정됐다\"고 밝혔다.      현대차는 이번 일렉시티 FCEV의 오스트리아 공급을 통해 차별화된 친환경차 기술력을 입증하는 동시에 향후 수소전기버스 사업을 확장할 수 있을 것으로 전망했다.       현대차 관계자는 \"수소전기버스의 우수한 기술력을 인정받아 해외 최초로 시내버스 정규노선에 투입해 운행하게 되어 굉장히 뜻깊다\"면서 \"앞으로도 다양한 국가에 수소전기버스 보급을 확대해 나갈 수 있도록 지속해서 노력할 것\"이라고 말했다.'"
            ],
            "application/vnd.google.colaboratory.intrinsic+json": {
              "type": "string"
            }
          },
          "metadata": {},
          "execution_count": 13
        }
      ]
    },
    {
      "cell_type": "markdown",
      "source": [
        "#API 활용 Hannanum"
      ],
      "metadata": {
        "id": "FlXMUK0F6Mz7"
      }
    },
    {
      "cell_type": "code",
      "source": [
        "! pip install konlpy"
      ],
      "metadata": {
        "colab": {
          "base_uri": "https://localhost:8080/"
        },
        "id": "jyyWd9a86Cnw",
        "outputId": "75ae8143-d53c-4f08-9d78-a54a125f0f57"
      },
      "execution_count": 14,
      "outputs": [
        {
          "output_type": "stream",
          "name": "stdout",
          "text": [
            "Requirement already satisfied: konlpy in /usr/local/lib/python3.7/dist-packages (0.6.0)\n",
            "Requirement already satisfied: JPype1>=0.7.0 in /usr/local/lib/python3.7/dist-packages (from konlpy) (1.3.0)\n",
            "Requirement already satisfied: numpy>=1.6 in /usr/local/lib/python3.7/dist-packages (from konlpy) (1.21.5)\n",
            "Requirement already satisfied: lxml>=4.1.0 in /usr/local/lib/python3.7/dist-packages (from konlpy) (4.2.6)\n",
            "Requirement already satisfied: typing-extensions in /usr/local/lib/python3.7/dist-packages (from JPype1>=0.7.0->konlpy) (3.10.0.2)\n"
          ]
        }
      ]
    },
    {
      "cell_type": "code",
      "source": [
        " from konlpy.tag import Kkma, Komoran, Okt, Hannanum\n"
      ],
      "metadata": {
        "id": "ex7Vh_v36bis"
      },
      "execution_count": 15,
      "outputs": []
    },
    {
      "cell_type": "code",
      "source": [
        "df['content']"
      ],
      "metadata": {
        "colab": {
          "base_uri": "https://localhost:8080/"
        },
        "id": "K23dbRwv6jPM",
        "outputId": "ed9839f6-f420-4223-d4c6-694569e8e92c"
      },
      "execution_count": 16,
      "outputs": [
        {
          "output_type": "execute_result",
          "data": {
            "text/plain": [
              "0        25일(현지 시각) 우크라이나 현지 매체 HB는 트위터에 30초짜리 짧은 영상과 함...\n",
              "1        에마뉘엘 마크롱 프랑스 대통령이 10일(현지시간) 동부 벨포르에서 원자력 발전용 증...\n",
              "2        [경향신문] 정의용 외교부 장관이 25일 전 재외공관장과 화상 회의를 열어 발언하고...\n",
              "3        승려들은 왜 반발할까관리자 존재하지만한 쪽으로 치우친 ‘사찰 부지 공공재’ 인식사찰...\n",
              "4        사진 '가비엔제이' 제니 인스타그램 캡처.           그룹 가비엔제이 제니와...\n",
              "                               ...                        \n",
              "18976    [경향신문] 올라프 숄츠 독일 총리. | 로이터연합뉴스조 바이든 미국 대통령과 올라...\n",
              "18977    김병욱 국민의힘 의원. 뉴시스    국민의힘 김병욱 의원(포항남·울릉)은 15일부터...\n",
              "18978    ‘존 바에즈 에센셜 워크’1천장 한정판 출시전설적인 포크 가수 존 바에즈. 존 바에...\n",
              "18979    지난해 게임업계 동반 '실적 부진'\"신작 지연도 재택근무 영향\" 주장에\"부진 원인을...\n",
              "18980    2인, 7일 격리시 41만원   14일부터 코로나19 생활지원비는 입원·격리통지를 ...\n",
              "Name: content, Length: 18981, dtype: object"
            ]
          },
          "metadata": {},
          "execution_count": 16
        }
      ]
    },
    {
      "cell_type": "code",
      "source": [
        "okt = Okt()\n",
        "kkm = Kkma() \n",
        "# etri API \n",
        "han = Hannanum()"
      ],
      "metadata": {
        "id": "lt6CxvuE6T1B"
      },
      "execution_count": 17,
      "outputs": []
    },
    {
      "cell_type": "code",
      "source": [
        "clean_words_han= [word[0] for word in han.pos(clean_text(lst[0])) if word[1] =='N']"
      ],
      "metadata": {
        "id": "l1lE18NA6YDE"
      },
      "execution_count": 18,
      "outputs": []
    },
    {
      "cell_type": "code",
      "source": [
        "clean_text(lst[0])"
      ],
      "metadata": {
        "colab": {
          "base_uri": "https://localhost:8080/",
          "height": 72
        },
        "id": "j7FTfAPZ8a88",
        "outputId": "bfd55d05-7eb9-4574-a457-05c981421ba5"
      },
      "execution_count": 19,
      "outputs": [
        {
          "output_type": "execute_result",
          "data": {
            "text/plain": [
              "'25일 우크라이나 현지 매체 HB는 트위터에 30초짜리 짧은 영상과 함께 우크라이나인이 점령군이 지나가지 못하도록 적에게 돌진하고 있다 는 글을 올렸다 러시아 군사차량을 막아선 남성 트위터 영상 속에는 차도로 줄지어 이동 중이던 러시아 군용 차량 한 대가 갑자기 방향을 꺾는 모습이 담겼다 양 팔을 벌린 한 남성이 차량을 제지하며 차량 앞으로 뛰어들었기 때문이다 차량이 방향을 바꿔 다시 이동하자 그는 차량을 따라 옆으로 이동했다 pic twitter com cZ29kknqhB February 25 2022가디언은 이 남성이 중국 천안문 사태 당시 탱크맨 과 비교되며 온라인에서 주목 받고 있다고 전했다 탱크맨은 중국 정부가 천안문 광장에서 탱크와 장갑차를 동원해 시위를 유혈 진압하던 당시 탱크 앞을 홀로 가로 막은 남성이다 이후 국가폭력에 대한 저항의 상징처럼 여겨졌다 제프 와이드너가 촬영한 천안문 사태 탱크맨 의 사진 '"
            ],
            "application/vnd.google.colaboratory.intrinsic+json": {
              "type": "string"
            }
          },
          "metadata": {},
          "execution_count": 19
        }
      ]
    },
    {
      "cell_type": "code",
      "source": [
        "# 유사어 처리 \n",
        "dic_chng = {'코로나' : ['코로나 19','코로나19','covid-19','신종 코로나바이러스 감염증']\n",
        "            ,'HIV' :['인체면역결핍바이러스']\n",
        "            ,'이재명':['이후보','이 후보']\n",
        "            ,'윤석열':['윤후보','윤 후보']\n",
        "            }\n",
        "chng_map ={word:k for k,v in dic_chng.items() for word in v}\n",
        "chng_map"
      ],
      "metadata": {
        "colab": {
          "base_uri": "https://localhost:8080/"
        },
        "id": "PxcDTm9f9hmB",
        "outputId": "443c7330-1e41-4611-caed-09ad61267f93"
      },
      "execution_count": 105,
      "outputs": [
        {
          "output_type": "execute_result",
          "data": {
            "text/plain": [
              "{'covid-19': '코로나',\n",
              " '신종 코로나바이러스 감염증': '코로나',\n",
              " '윤 후보': '윤석열',\n",
              " '윤후보': '윤석열',\n",
              " '이 후보': '이재명',\n",
              " '이후보': '이재명',\n",
              " '인체면역결핍바이러스': 'HIV',\n",
              " '코로나 19': '코로나',\n",
              " '코로나19': '코로나'}"
            ]
          },
          "metadata": {},
          "execution_count": 105
        }
      ]
    },
    {
      "cell_type": "code",
      "source": [
        "content =df['content']\n",
        "content"
      ],
      "metadata": {
        "colab": {
          "base_uri": "https://localhost:8080/"
        },
        "id": "MF9wjFtUIxh9",
        "outputId": "9501bb70-037b-45bc-90db-2daadc42a342"
      },
      "execution_count": 95,
      "outputs": [
        {
          "output_type": "execute_result",
          "data": {
            "text/plain": [
              "0        25일(현지 시각) 우크라이나 현지 매체 HB는 트위터에 30초짜리 짧은 영상과 함...\n",
              "1        에마뉘엘 마크롱 프랑스 대통령이 10일(현지시간) 동부 벨포르에서 원자력 발전용 증...\n",
              "2        [경향신문] 정의용 외교부 장관이 25일 전 재외공관장과 화상 회의를 열어 발언하고...\n",
              "3        승려들은 왜 반발할까관리자 존재하지만한 쪽으로 치우친 ‘사찰 부지 공공재’ 인식사찰...\n",
              "4        사진 '가비엔제이' 제니 인스타그램 캡처.           그룹 가비엔제이 제니와...\n",
              "                               ...                        \n",
              "18976    [경향신문] 올라프 숄츠 독일 총리. | 로이터연합뉴스조 바이든 미국 대통령과 올라...\n",
              "18977    김병욱 국민의힘 의원. 뉴시스    국민의힘 김병욱 의원(포항남·울릉)은 15일부터...\n",
              "18978    ‘존 바에즈 에센셜 워크’1천장 한정판 출시전설적인 포크 가수 존 바에즈. 존 바에...\n",
              "18979    지난해 게임업계 동반 '실적 부진'\"신작 지연도 재택근무 영향\" 주장에\"부진 원인을...\n",
              "18980    2인, 7일 격리시 41만원   14일부터 코로나19 생활지원비는 입원·격리통지를 ...\n",
              "Name: content, Length: 18981, dtype: object"
            ]
          },
          "metadata": {},
          "execution_count": 95
        }
      ]
    },
    {
      "cell_type": "code",
      "source": [
        "content = content.replace(chng_map,regex=True)  # 유사어 처리 \n",
        "content =list(content)"
      ],
      "metadata": {
        "id": "TBtiftHJIQ21"
      },
      "execution_count": 96,
      "outputs": []
    },
    {
      "cell_type": "code",
      "source": [
        "content_2 = [clean_text(str(x)) for x in content] # 데이터 정제 "
      ],
      "metadata": {
        "id": "h-BIxNdhKbVu"
      },
      "execution_count": 97,
      "outputs": []
    },
    {
      "cell_type": "code",
      "source": [
        "clean_words_han= [word[0] for word in han.pos(clean_text(content[135])) if word[1] =='N']\n",
        "clean_words_han"
      ],
      "metadata": {
        "id": "_mNj6fPL8QWq"
      },
      "execution_count": null,
      "outputs": []
    },
    {
      "cell_type": "code",
      "source": [
        "clean_text(content[135])"
      ],
      "metadata": {
        "colab": {
          "base_uri": "https://localhost:8080/",
          "height": 147
        },
        "id": "mbu8ILchcxMm",
        "outputId": "9131ef0e-9b86-4188-d19d-c7ad62c8d230"
      },
      "execution_count": 84,
      "outputs": [
        {
          "output_type": "execute_result",
          "data": {
            "text/plain": [
              "'현대차가 친환경 수소전기버스 일렉시티 FCEV 를 오스트리아 대중교통 기업 비너 리니엔 에 공급했으며 빈 시내에서 시민들이 가장 많이 탑승하는 노선에 우선 투입돼 운행을 시작했다고 27일 밝혔다 사진은 오스트리아 시내버스 노선에 투입된 현대차 수소전기버스 현대차의 친환경 수소전기버스가 오스트리아 수도 빈의 시내버스 정규노선에 투입됐다 현대차는 수소전기버스 일렉시티 FCEV 가 빈 시내에서 시민들이 가장 많이 탑승하는 노선에 우선 투입돼 운행을 시작했다고 27일 밝혔다 현대차는 오스트리아 정부의 수소 인프라 확충 및 사업 주도를 위한 하이버스 프로젝트 일환으로 일렉시티 FCEV 3대를 오스트리아 대중교통 기업 비너리니엔 에 공급했다 현대차가 외국에 수소전기버스를 시내버스용으로 수출한 것은 이번이 처음이다 현대차가 친환경 수소전기버스 일렉시티 FCEV 를 오스트리아 대중교통 기업 비너 리니엔 에 공급했으며 빈 시내에서 시민들이 가장 많이 탑승하는 노선에 우선 투입돼 운행을 시작했다고 27일 밝혔다 사진은 오스트리아 시내버스 노선에 투입된 현대차 수소전기버스 일렉시티 FCEV는 빈을 시작으로 그라츠 잘츠부르크 등 오스트리아 주요 도시의 다양한 노선에서 순차적으로 운행된다 현대차에 따르면 일렉시티 FCEV는 우수한 성능의 연료전지 시스템과 동급 최대 용량의 수소 탱크를 적용해 1회 충전으로 최대 550 를 주행할 수 있다 현대차는 긴 주행거리와 짧은 충전 시간 등 우수한 상품성을 갖춰 차량 밀도가 높고 신호등 간 거리가 짧은 빈의 도로 요건에 적합하다는 평가를 받아 하이버스 프로젝트의 파트너로 선정됐다 고 밝혔다 현대차는 이번 일렉시티 FCEV의 오스트리아 공급을 통해 차별화된 친환경차 기술력을 입증하는 동시에 향후 수소전기버스 사업을 확장할 수 있을 것으로 전망했다 현대차 관계자는 수소전기버스의 우수한 기술력을 인정받아 해외 최초로 시내버스 정규노선에 투입해 운행하게 되어 굉장히 뜻깊다 면서 앞으로도 다양한 국가에 수소전기버스 보급을 확대해 나갈 수 있도록 지속해서 노력할 것 이라고 말했다 '"
            ],
            "application/vnd.google.colaboratory.intrinsic+json": {
              "type": "string"
            }
          },
          "metadata": {},
          "execution_count": 84
        }
      ]
    },
    {
      "cell_type": "code",
      "source": [
        "len(content_2)"
      ],
      "metadata": {
        "colab": {
          "base_uri": "https://localhost:8080/"
        },
        "id": "a1jvH88vGI0e",
        "outputId": "b08e987b-c95f-41d9-c1d3-82abff180bda"
      },
      "execution_count": 25,
      "outputs": [
        {
          "output_type": "execute_result",
          "data": {
            "text/plain": [
              "18981"
            ]
          },
          "metadata": {},
          "execution_count": 25
        }
      ]
    },
    {
      "cell_type": "markdown",
      "source": [
        "#비교할 데이터 셋 설정 "
      ],
      "metadata": {
        "id": "B46ESLyyKKgQ"
      }
    },
    {
      "cell_type": "code",
      "source": [
        "date_df['clean_content'] = content_2\n",
        "date_df"
      ],
      "metadata": {
        "colab": {
          "base_uri": "https://localhost:8080/",
          "height": 423
        },
        "id": "YMuhAlcUKO50",
        "outputId": "d1f59f37-2756-402e-fb1e-64e73f7334f8"
      },
      "execution_count": 98,
      "outputs": [
        {
          "output_type": "execute_result",
          "data": {
            "text/plain": [
              "       Year Month Day                                      clean_content\n",
              "0      2022    02  26  25일 우크라이나 현지 매체 HB는 트위터에 30초짜리 짧은 영상과 함께 우크라이나...\n",
              "1      2022    02  14  에마뉘엘 마크롱 프랑스 대통령이 10일 동부 벨포르에서 원자력 발전용 증기 터빈을 ...\n",
              "2      2022    02  26   정의용 외교부 장관이 25일 전 재외공관장과 화상 회의를 열어 발언하고 있다 외교...\n",
              "3      2022    02  02  승려들은 왜 반발할까관리자 존재하지만한 쪽으로 치우친 사찰 부지 공공재 인식사찰 주...\n",
              "4      2022    02  13  사진 가비엔제이 제니 인스타그램 캡처 그룹 가비엔제이 제니와 서린이 걸그룹 출신 불...\n",
              "...     ...   ...  ..                                                ...\n",
              "18976  2022    02  17   올라프 숄츠 독일 총리 로이터조 바이든 미국 대통령과 올라프 숄츠 독일 총리는 1...\n",
              "18977  2022    02  14  김병욱 국민의힘 의원 뉴시스 국민의힘 김병욱 의원은 15일부터 포스코홀딩스 본사 포...\n",
              "18978  2022    02  21   존 바에즈 에센셜 워크 1천장 한정판 출시전설적인 포크 가수 존 바에즈 존 바에즈...\n",
              "18979  2022    02  24  지난해 게임업계 동반 실적 부진 신작 지연도 재택근무 영향 주장에 부진 원인을 다른...\n",
              "18980  2022    02  15  2인 7일 격리시 41만원 14일부터 코로나 생활지원비는 입원 격리통지를 받은 격리...\n",
              "\n",
              "[18981 rows x 4 columns]"
            ],
            "text/html": [
              "\n",
              "  <div id=\"df-a7414b6a-bedc-4187-9fe6-782368f7c54f\">\n",
              "    <div class=\"colab-df-container\">\n",
              "      <div>\n",
              "<style scoped>\n",
              "    .dataframe tbody tr th:only-of-type {\n",
              "        vertical-align: middle;\n",
              "    }\n",
              "\n",
              "    .dataframe tbody tr th {\n",
              "        vertical-align: top;\n",
              "    }\n",
              "\n",
              "    .dataframe thead th {\n",
              "        text-align: right;\n",
              "    }\n",
              "</style>\n",
              "<table border=\"1\" class=\"dataframe\">\n",
              "  <thead>\n",
              "    <tr style=\"text-align: right;\">\n",
              "      <th></th>\n",
              "      <th>Year</th>\n",
              "      <th>Month</th>\n",
              "      <th>Day</th>\n",
              "      <th>clean_content</th>\n",
              "    </tr>\n",
              "  </thead>\n",
              "  <tbody>\n",
              "    <tr>\n",
              "      <th>0</th>\n",
              "      <td>2022</td>\n",
              "      <td>02</td>\n",
              "      <td>26</td>\n",
              "      <td>25일 우크라이나 현지 매체 HB는 트위터에 30초짜리 짧은 영상과 함께 우크라이나...</td>\n",
              "    </tr>\n",
              "    <tr>\n",
              "      <th>1</th>\n",
              "      <td>2022</td>\n",
              "      <td>02</td>\n",
              "      <td>14</td>\n",
              "      <td>에마뉘엘 마크롱 프랑스 대통령이 10일 동부 벨포르에서 원자력 발전용 증기 터빈을 ...</td>\n",
              "    </tr>\n",
              "    <tr>\n",
              "      <th>2</th>\n",
              "      <td>2022</td>\n",
              "      <td>02</td>\n",
              "      <td>26</td>\n",
              "      <td>정의용 외교부 장관이 25일 전 재외공관장과 화상 회의를 열어 발언하고 있다 외교...</td>\n",
              "    </tr>\n",
              "    <tr>\n",
              "      <th>3</th>\n",
              "      <td>2022</td>\n",
              "      <td>02</td>\n",
              "      <td>02</td>\n",
              "      <td>승려들은 왜 반발할까관리자 존재하지만한 쪽으로 치우친 사찰 부지 공공재 인식사찰 주...</td>\n",
              "    </tr>\n",
              "    <tr>\n",
              "      <th>4</th>\n",
              "      <td>2022</td>\n",
              "      <td>02</td>\n",
              "      <td>13</td>\n",
              "      <td>사진 가비엔제이 제니 인스타그램 캡처 그룹 가비엔제이 제니와 서린이 걸그룹 출신 불...</td>\n",
              "    </tr>\n",
              "    <tr>\n",
              "      <th>...</th>\n",
              "      <td>...</td>\n",
              "      <td>...</td>\n",
              "      <td>...</td>\n",
              "      <td>...</td>\n",
              "    </tr>\n",
              "    <tr>\n",
              "      <th>18976</th>\n",
              "      <td>2022</td>\n",
              "      <td>02</td>\n",
              "      <td>17</td>\n",
              "      <td>올라프 숄츠 독일 총리 로이터조 바이든 미국 대통령과 올라프 숄츠 독일 총리는 1...</td>\n",
              "    </tr>\n",
              "    <tr>\n",
              "      <th>18977</th>\n",
              "      <td>2022</td>\n",
              "      <td>02</td>\n",
              "      <td>14</td>\n",
              "      <td>김병욱 국민의힘 의원 뉴시스 국민의힘 김병욱 의원은 15일부터 포스코홀딩스 본사 포...</td>\n",
              "    </tr>\n",
              "    <tr>\n",
              "      <th>18978</th>\n",
              "      <td>2022</td>\n",
              "      <td>02</td>\n",
              "      <td>21</td>\n",
              "      <td>존 바에즈 에센셜 워크 1천장 한정판 출시전설적인 포크 가수 존 바에즈 존 바에즈...</td>\n",
              "    </tr>\n",
              "    <tr>\n",
              "      <th>18979</th>\n",
              "      <td>2022</td>\n",
              "      <td>02</td>\n",
              "      <td>24</td>\n",
              "      <td>지난해 게임업계 동반 실적 부진 신작 지연도 재택근무 영향 주장에 부진 원인을 다른...</td>\n",
              "    </tr>\n",
              "    <tr>\n",
              "      <th>18980</th>\n",
              "      <td>2022</td>\n",
              "      <td>02</td>\n",
              "      <td>15</td>\n",
              "      <td>2인 7일 격리시 41만원 14일부터 코로나 생활지원비는 입원 격리통지를 받은 격리...</td>\n",
              "    </tr>\n",
              "  </tbody>\n",
              "</table>\n",
              "<p>18981 rows × 4 columns</p>\n",
              "</div>\n",
              "      <button class=\"colab-df-convert\" onclick=\"convertToInteractive('df-a7414b6a-bedc-4187-9fe6-782368f7c54f')\"\n",
              "              title=\"Convert this dataframe to an interactive table.\"\n",
              "              style=\"display:none;\">\n",
              "        \n",
              "  <svg xmlns=\"http://www.w3.org/2000/svg\" height=\"24px\"viewBox=\"0 0 24 24\"\n",
              "       width=\"24px\">\n",
              "    <path d=\"M0 0h24v24H0V0z\" fill=\"none\"/>\n",
              "    <path d=\"M18.56 5.44l.94 2.06.94-2.06 2.06-.94-2.06-.94-.94-2.06-.94 2.06-2.06.94zm-11 1L8.5 8.5l.94-2.06 2.06-.94-2.06-.94L8.5 2.5l-.94 2.06-2.06.94zm10 10l.94 2.06.94-2.06 2.06-.94-2.06-.94-.94-2.06-.94 2.06-2.06.94z\"/><path d=\"M17.41 7.96l-1.37-1.37c-.4-.4-.92-.59-1.43-.59-.52 0-1.04.2-1.43.59L10.3 9.45l-7.72 7.72c-.78.78-.78 2.05 0 2.83L4 21.41c.39.39.9.59 1.41.59.51 0 1.02-.2 1.41-.59l7.78-7.78 2.81-2.81c.8-.78.8-2.07 0-2.86zM5.41 20L4 18.59l7.72-7.72 1.47 1.35L5.41 20z\"/>\n",
              "  </svg>\n",
              "      </button>\n",
              "      \n",
              "  <style>\n",
              "    .colab-df-container {\n",
              "      display:flex;\n",
              "      flex-wrap:wrap;\n",
              "      gap: 12px;\n",
              "    }\n",
              "\n",
              "    .colab-df-convert {\n",
              "      background-color: #E8F0FE;\n",
              "      border: none;\n",
              "      border-radius: 50%;\n",
              "      cursor: pointer;\n",
              "      display: none;\n",
              "      fill: #1967D2;\n",
              "      height: 32px;\n",
              "      padding: 0 0 0 0;\n",
              "      width: 32px;\n",
              "    }\n",
              "\n",
              "    .colab-df-convert:hover {\n",
              "      background-color: #E2EBFA;\n",
              "      box-shadow: 0px 1px 2px rgba(60, 64, 67, 0.3), 0px 1px 3px 1px rgba(60, 64, 67, 0.15);\n",
              "      fill: #174EA6;\n",
              "    }\n",
              "\n",
              "    [theme=dark] .colab-df-convert {\n",
              "      background-color: #3B4455;\n",
              "      fill: #D2E3FC;\n",
              "    }\n",
              "\n",
              "    [theme=dark] .colab-df-convert:hover {\n",
              "      background-color: #434B5C;\n",
              "      box-shadow: 0px 1px 3px 1px rgba(0, 0, 0, 0.15);\n",
              "      filter: drop-shadow(0px 1px 2px rgba(0, 0, 0, 0.3));\n",
              "      fill: #FFFFFF;\n",
              "    }\n",
              "  </style>\n",
              "\n",
              "      <script>\n",
              "        const buttonEl =\n",
              "          document.querySelector('#df-a7414b6a-bedc-4187-9fe6-782368f7c54f button.colab-df-convert');\n",
              "        buttonEl.style.display =\n",
              "          google.colab.kernel.accessAllowed ? 'block' : 'none';\n",
              "\n",
              "        async function convertToInteractive(key) {\n",
              "          const element = document.querySelector('#df-a7414b6a-bedc-4187-9fe6-782368f7c54f');\n",
              "          const dataTable =\n",
              "            await google.colab.kernel.invokeFunction('convertToInteractive',\n",
              "                                                     [key], {});\n",
              "          if (!dataTable) return;\n",
              "\n",
              "          const docLinkHtml = 'Like what you see? Visit the ' +\n",
              "            '<a target=\"_blank\" href=https://colab.research.google.com/notebooks/data_table.ipynb>data table notebook</a>'\n",
              "            + ' to learn more about interactive tables.';\n",
              "          element.innerHTML = '';\n",
              "          dataTable['output_type'] = 'display_data';\n",
              "          await google.colab.output.renderOutput(dataTable, element);\n",
              "          const docLink = document.createElement('div');\n",
              "          docLink.innerHTML = docLinkHtml;\n",
              "          element.appendChild(docLink);\n",
              "        }\n",
              "      </script>\n",
              "    </div>\n",
              "  </div>\n",
              "  "
            ]
          },
          "metadata": {},
          "execution_count": 98
        }
      ]
    },
    {
      "cell_type": "markdown",
      "source": [
        "## 방법론 1\n",
        "  #### 일자별 무지성 기사합치기 \n",
        "\n",
        "## ***  무지성 합치기는 안됨 ***\n",
        "  \n",
        "  why ? hannanum 안에 인풋 데이터가 너무 커서 정상적으로 형태소 분석을 수행해 내지 못함.\n"
      ],
      "metadata": {
        "id": "_KVJ8thRP0gO"
      }
    },
    {
      "cell_type": "code",
      "source": [
        "r = date_df.groupby(['Year','Month','Day']).sum() # 일자별 기사 합치기 \n",
        "r "
      ],
      "metadata": {
        "colab": {
          "base_uri": "https://localhost:8080/",
          "height": 977
        },
        "id": "gWr7AHgLKP7z",
        "outputId": "58c65e26-caa5-45a4-f68a-b9be37045db4"
      },
      "execution_count": 27,
      "outputs": [
        {
          "output_type": "execute_result",
          "data": {
            "text/plain": [
              "                                                    clean_content\n",
              "Year Month Day                                                   \n",
              "2022 01    31   31일 광주 서구 화정동 현대산업개발 아이파크 아파트 신축 공사 29 붕괴지점 현장...\n",
              "     02    01   국내 확진자 사상 첫 1만8000명 돌파2만명 목전 설 끝나면 늘어날 듯설날인 1일...\n",
              "           02   승려들은 왜 반발할까관리자 존재하지만한 쪽으로 치우친 사찰 부지 공공재 인식사찰 주...\n",
              "           03   국민의당 안철수 대선 후보가 설 연휴 마지막 날인 2일 서울 중구보건소 선별진료소에...\n",
              "           04   명품 판타지김윤성 류미연 지음레디앙 430쪽 1만 7000원한정판 골프화를 사기 위...\n",
              "           05   30년 가까이 정성껏 길러 딸 제시카를 시집까지 보냈는데 지난해 성탄 선물로 유전자...\n",
              "           06   오미크론 변이 무서운 폭증세 하루 신규 확진 4만명 육박코로나 오미크론 변이가 무서...\n",
              "           07   4일 오후 중국 베이징 국립경기장에서 열린 2022 베이징 동계올림픽 개회식에서 최...\n",
              "           08   사진 국회사진기자단 국민의당 안철수 대선 후보는 8일 2022 베이징 동계올림픽 쇼...\n",
              "           09   Hyundai is targeting the Japanese market anew ...\n",
              "           10   신규 확진자 5만명 넘어 급증 상황 정부 대응 부실24시간 의료상담센터 전국 145...\n",
              "           11    1월 소비자물가 7 5 급등 발표 직후 성명 올해 말까지 인플레이션 상당 완화 연...\n",
              "           12   더불어민주당 이재명 대선후보가 12일 충북 청주시 상당구 성안길에서 즉석연설을 마친...\n",
              "           13   사진 가비엔제이 제니 인스타그램 캡처 그룹 가비엔제이 제니와 서린이 걸그룹 출신 불...\n",
              "           14   에마뉘엘 마크롱 프랑스 대통령이 10일 동부 벨포르에서 원자력 발전용 증기 터빈을 ...\n",
              "           15   인터파크 2021 장르별 톱10 발표 뮤지컬 프랑켄슈타인 연극 쉬어매드니스 1위 콘...\n",
              "           16    서울 강동구는 지난달 31일 성내동 천호대로 168길 일대 강풀만화거리의 도시경관...\n",
              "           17   렌터카 교통사고 1년 새 18 늘어 코로나로 이용 증가 탓 지난해 제주를 찾은 관광...\n",
              "           18   법원 서울 대원 영훈 지위 유지 조희연 판결 유감 즉시 항소서울 대원 영훈 국제중이...\n",
              "           19   배우 나문희가 모친상을 당했다 나문희의 어머니 이희재씨는 19일 세상을 떠났다 빈소...\n",
              "           20    법원 판결로 백화점 마트 등 중단 방역 정책 무력화 위기시민들 출입 확인 백신접종...\n",
              "           21   후보들의 선거유세 중 몸짓퍼포먼스가 화제다 더불어민주당 이재명 대선 후보가 20일 ...\n",
              "           22   한국관광공사 400억 들여 120객실 4성급전남도와 한국관광공사는 22일 오후 해남...\n",
              "           23   하버드대의 국내 글로벌 최고경영자과정 HLP 가 3월부터 국내에서 시작된다 HLP ...\n",
              "           24   P U 시리즈 프로세서 출시고객 기업에 최고성능 제공미국 반도체 기업 인텔이 12세...\n",
              "           25   지방은 어쩌다 공공의 적이 되었나 한네 블랭크 지음 이은정 옮김황소자리 232쪽 1...\n",
              "           26   25일 우크라이나 현지 매체 HB는 트위터에 30초짜리 짧은 영상과 함께 우크라이나...\n",
              "           27   윤석열 국민의힘 대선 후보 27일 유세 일정 전격 취소오후 1시 단일화 입장표명27..."
            ],
            "text/html": [
              "\n",
              "  <div id=\"df-a2045e9d-0b63-4079-85a4-e7f91cd4dfa8\">\n",
              "    <div class=\"colab-df-container\">\n",
              "      <div>\n",
              "<style scoped>\n",
              "    .dataframe tbody tr th:only-of-type {\n",
              "        vertical-align: middle;\n",
              "    }\n",
              "\n",
              "    .dataframe tbody tr th {\n",
              "        vertical-align: top;\n",
              "    }\n",
              "\n",
              "    .dataframe thead th {\n",
              "        text-align: right;\n",
              "    }\n",
              "</style>\n",
              "<table border=\"1\" class=\"dataframe\">\n",
              "  <thead>\n",
              "    <tr style=\"text-align: right;\">\n",
              "      <th></th>\n",
              "      <th></th>\n",
              "      <th></th>\n",
              "      <th>clean_content</th>\n",
              "    </tr>\n",
              "    <tr>\n",
              "      <th>Year</th>\n",
              "      <th>Month</th>\n",
              "      <th>Day</th>\n",
              "      <th></th>\n",
              "    </tr>\n",
              "  </thead>\n",
              "  <tbody>\n",
              "    <tr>\n",
              "      <th rowspan=\"28\" valign=\"top\">2022</th>\n",
              "      <th>01</th>\n",
              "      <th>31</th>\n",
              "      <td>31일 광주 서구 화정동 현대산업개발 아이파크 아파트 신축 공사 29 붕괴지점 현장...</td>\n",
              "    </tr>\n",
              "    <tr>\n",
              "      <th rowspan=\"27\" valign=\"top\">02</th>\n",
              "      <th>01</th>\n",
              "      <td>국내 확진자 사상 첫 1만8000명 돌파2만명 목전 설 끝나면 늘어날 듯설날인 1일...</td>\n",
              "    </tr>\n",
              "    <tr>\n",
              "      <th>02</th>\n",
              "      <td>승려들은 왜 반발할까관리자 존재하지만한 쪽으로 치우친 사찰 부지 공공재 인식사찰 주...</td>\n",
              "    </tr>\n",
              "    <tr>\n",
              "      <th>03</th>\n",
              "      <td>국민의당 안철수 대선 후보가 설 연휴 마지막 날인 2일 서울 중구보건소 선별진료소에...</td>\n",
              "    </tr>\n",
              "    <tr>\n",
              "      <th>04</th>\n",
              "      <td>명품 판타지김윤성 류미연 지음레디앙 430쪽 1만 7000원한정판 골프화를 사기 위...</td>\n",
              "    </tr>\n",
              "    <tr>\n",
              "      <th>05</th>\n",
              "      <td>30년 가까이 정성껏 길러 딸 제시카를 시집까지 보냈는데 지난해 성탄 선물로 유전자...</td>\n",
              "    </tr>\n",
              "    <tr>\n",
              "      <th>06</th>\n",
              "      <td>오미크론 변이 무서운 폭증세 하루 신규 확진 4만명 육박코로나 오미크론 변이가 무서...</td>\n",
              "    </tr>\n",
              "    <tr>\n",
              "      <th>07</th>\n",
              "      <td>4일 오후 중국 베이징 국립경기장에서 열린 2022 베이징 동계올림픽 개회식에서 최...</td>\n",
              "    </tr>\n",
              "    <tr>\n",
              "      <th>08</th>\n",
              "      <td>사진 국회사진기자단 국민의당 안철수 대선 후보는 8일 2022 베이징 동계올림픽 쇼...</td>\n",
              "    </tr>\n",
              "    <tr>\n",
              "      <th>09</th>\n",
              "      <td>Hyundai is targeting the Japanese market anew ...</td>\n",
              "    </tr>\n",
              "    <tr>\n",
              "      <th>10</th>\n",
              "      <td>신규 확진자 5만명 넘어 급증 상황 정부 대응 부실24시간 의료상담센터 전국 145...</td>\n",
              "    </tr>\n",
              "    <tr>\n",
              "      <th>11</th>\n",
              "      <td>1월 소비자물가 7 5 급등 발표 직후 성명 올해 말까지 인플레이션 상당 완화 연...</td>\n",
              "    </tr>\n",
              "    <tr>\n",
              "      <th>12</th>\n",
              "      <td>더불어민주당 이재명 대선후보가 12일 충북 청주시 상당구 성안길에서 즉석연설을 마친...</td>\n",
              "    </tr>\n",
              "    <tr>\n",
              "      <th>13</th>\n",
              "      <td>사진 가비엔제이 제니 인스타그램 캡처 그룹 가비엔제이 제니와 서린이 걸그룹 출신 불...</td>\n",
              "    </tr>\n",
              "    <tr>\n",
              "      <th>14</th>\n",
              "      <td>에마뉘엘 마크롱 프랑스 대통령이 10일 동부 벨포르에서 원자력 발전용 증기 터빈을 ...</td>\n",
              "    </tr>\n",
              "    <tr>\n",
              "      <th>15</th>\n",
              "      <td>인터파크 2021 장르별 톱10 발표 뮤지컬 프랑켄슈타인 연극 쉬어매드니스 1위 콘...</td>\n",
              "    </tr>\n",
              "    <tr>\n",
              "      <th>16</th>\n",
              "      <td>서울 강동구는 지난달 31일 성내동 천호대로 168길 일대 강풀만화거리의 도시경관...</td>\n",
              "    </tr>\n",
              "    <tr>\n",
              "      <th>17</th>\n",
              "      <td>렌터카 교통사고 1년 새 18 늘어 코로나로 이용 증가 탓 지난해 제주를 찾은 관광...</td>\n",
              "    </tr>\n",
              "    <tr>\n",
              "      <th>18</th>\n",
              "      <td>법원 서울 대원 영훈 지위 유지 조희연 판결 유감 즉시 항소서울 대원 영훈 국제중이...</td>\n",
              "    </tr>\n",
              "    <tr>\n",
              "      <th>19</th>\n",
              "      <td>배우 나문희가 모친상을 당했다 나문희의 어머니 이희재씨는 19일 세상을 떠났다 빈소...</td>\n",
              "    </tr>\n",
              "    <tr>\n",
              "      <th>20</th>\n",
              "      <td>법원 판결로 백화점 마트 등 중단 방역 정책 무력화 위기시민들 출입 확인 백신접종...</td>\n",
              "    </tr>\n",
              "    <tr>\n",
              "      <th>21</th>\n",
              "      <td>후보들의 선거유세 중 몸짓퍼포먼스가 화제다 더불어민주당 이재명 대선 후보가 20일 ...</td>\n",
              "    </tr>\n",
              "    <tr>\n",
              "      <th>22</th>\n",
              "      <td>한국관광공사 400억 들여 120객실 4성급전남도와 한국관광공사는 22일 오후 해남...</td>\n",
              "    </tr>\n",
              "    <tr>\n",
              "      <th>23</th>\n",
              "      <td>하버드대의 국내 글로벌 최고경영자과정 HLP 가 3월부터 국내에서 시작된다 HLP ...</td>\n",
              "    </tr>\n",
              "    <tr>\n",
              "      <th>24</th>\n",
              "      <td>P U 시리즈 프로세서 출시고객 기업에 최고성능 제공미국 반도체 기업 인텔이 12세...</td>\n",
              "    </tr>\n",
              "    <tr>\n",
              "      <th>25</th>\n",
              "      <td>지방은 어쩌다 공공의 적이 되었나 한네 블랭크 지음 이은정 옮김황소자리 232쪽 1...</td>\n",
              "    </tr>\n",
              "    <tr>\n",
              "      <th>26</th>\n",
              "      <td>25일 우크라이나 현지 매체 HB는 트위터에 30초짜리 짧은 영상과 함께 우크라이나...</td>\n",
              "    </tr>\n",
              "    <tr>\n",
              "      <th>27</th>\n",
              "      <td>윤석열 국민의힘 대선 후보 27일 유세 일정 전격 취소오후 1시 단일화 입장표명27...</td>\n",
              "    </tr>\n",
              "  </tbody>\n",
              "</table>\n",
              "</div>\n",
              "      <button class=\"colab-df-convert\" onclick=\"convertToInteractive('df-a2045e9d-0b63-4079-85a4-e7f91cd4dfa8')\"\n",
              "              title=\"Convert this dataframe to an interactive table.\"\n",
              "              style=\"display:none;\">\n",
              "        \n",
              "  <svg xmlns=\"http://www.w3.org/2000/svg\" height=\"24px\"viewBox=\"0 0 24 24\"\n",
              "       width=\"24px\">\n",
              "    <path d=\"M0 0h24v24H0V0z\" fill=\"none\"/>\n",
              "    <path d=\"M18.56 5.44l.94 2.06.94-2.06 2.06-.94-2.06-.94-.94-2.06-.94 2.06-2.06.94zm-11 1L8.5 8.5l.94-2.06 2.06-.94-2.06-.94L8.5 2.5l-.94 2.06-2.06.94zm10 10l.94 2.06.94-2.06 2.06-.94-2.06-.94-.94-2.06-.94 2.06-2.06.94z\"/><path d=\"M17.41 7.96l-1.37-1.37c-.4-.4-.92-.59-1.43-.59-.52 0-1.04.2-1.43.59L10.3 9.45l-7.72 7.72c-.78.78-.78 2.05 0 2.83L4 21.41c.39.39.9.59 1.41.59.51 0 1.02-.2 1.41-.59l7.78-7.78 2.81-2.81c.8-.78.8-2.07 0-2.86zM5.41 20L4 18.59l7.72-7.72 1.47 1.35L5.41 20z\"/>\n",
              "  </svg>\n",
              "      </button>\n",
              "      \n",
              "  <style>\n",
              "    .colab-df-container {\n",
              "      display:flex;\n",
              "      flex-wrap:wrap;\n",
              "      gap: 12px;\n",
              "    }\n",
              "\n",
              "    .colab-df-convert {\n",
              "      background-color: #E8F0FE;\n",
              "      border: none;\n",
              "      border-radius: 50%;\n",
              "      cursor: pointer;\n",
              "      display: none;\n",
              "      fill: #1967D2;\n",
              "      height: 32px;\n",
              "      padding: 0 0 0 0;\n",
              "      width: 32px;\n",
              "    }\n",
              "\n",
              "    .colab-df-convert:hover {\n",
              "      background-color: #E2EBFA;\n",
              "      box-shadow: 0px 1px 2px rgba(60, 64, 67, 0.3), 0px 1px 3px 1px rgba(60, 64, 67, 0.15);\n",
              "      fill: #174EA6;\n",
              "    }\n",
              "\n",
              "    [theme=dark] .colab-df-convert {\n",
              "      background-color: #3B4455;\n",
              "      fill: #D2E3FC;\n",
              "    }\n",
              "\n",
              "    [theme=dark] .colab-df-convert:hover {\n",
              "      background-color: #434B5C;\n",
              "      box-shadow: 0px 1px 3px 1px rgba(0, 0, 0, 0.15);\n",
              "      filter: drop-shadow(0px 1px 2px rgba(0, 0, 0, 0.3));\n",
              "      fill: #FFFFFF;\n",
              "    }\n",
              "  </style>\n",
              "\n",
              "      <script>\n",
              "        const buttonEl =\n",
              "          document.querySelector('#df-a2045e9d-0b63-4079-85a4-e7f91cd4dfa8 button.colab-df-convert');\n",
              "        buttonEl.style.display =\n",
              "          google.colab.kernel.accessAllowed ? 'block' : 'none';\n",
              "\n",
              "        async function convertToInteractive(key) {\n",
              "          const element = document.querySelector('#df-a2045e9d-0b63-4079-85a4-e7f91cd4dfa8');\n",
              "          const dataTable =\n",
              "            await google.colab.kernel.invokeFunction('convertToInteractive',\n",
              "                                                     [key], {});\n",
              "          if (!dataTable) return;\n",
              "\n",
              "          const docLinkHtml = 'Like what you see? Visit the ' +\n",
              "            '<a target=\"_blank\" href=https://colab.research.google.com/notebooks/data_table.ipynb>data table notebook</a>'\n",
              "            + ' to learn more about interactive tables.';\n",
              "          element.innerHTML = '';\n",
              "          dataTable['output_type'] = 'display_data';\n",
              "          await google.colab.output.renderOutput(dataTable, element);\n",
              "          const docLink = document.createElement('div');\n",
              "          docLink.innerHTML = docLinkHtml;\n",
              "          element.appendChild(docLink);\n",
              "        }\n",
              "      </script>\n",
              "    </div>\n",
              "  </div>\n",
              "  "
            ]
          },
          "metadata": {},
          "execution_count": 27
        },
        {
          "output_type": "stream",
          "name": "stdout",
          "text": [
            "Error: Runtime no longer has a reference to this dataframe, please re-run this cell and try again.\n"
          ]
        }
      ]
    },
    {
      "cell_type": "code",
      "source": [
        "daata  = r['clean_content'][1]"
      ],
      "metadata": {
        "id": "uUtIJzZhN5iq"
      },
      "execution_count": 80,
      "outputs": []
    },
    {
      "cell_type": "code",
      "source": [
        "sample = [word[0] for word in han.pos(daata) if word[1] =='N']\n",
        "# pd.Series(sample).value_counts().head(30)"
      ],
      "metadata": {
        "colab": {
          "base_uri": "https://localhost:8080/",
          "height": 325
        },
        "id": "zEM214iAQiLE",
        "outputId": "e8769504-a0d3-4e7a-8975-7d1bc1e4b0dc"
      },
      "execution_count": 81,
      "outputs": [
        {
          "output_type": "error",
          "ename": "KeyboardInterrupt",
          "evalue": "ignored",
          "traceback": [
            "\u001b[0;31m---------------------------------------------------------------------------\u001b[0m",
            "\u001b[0;31mKeyboardInterrupt\u001b[0m                         Traceback (most recent call last)",
            "\u001b[0;32m<ipython-input-81-80fc1503593e>\u001b[0m in \u001b[0;36m<module>\u001b[0;34m()\u001b[0m\n\u001b[0;32m----> 1\u001b[0;31m \u001b[0msample\u001b[0m \u001b[0;34m=\u001b[0m \u001b[0;34m[\u001b[0m\u001b[0mword\u001b[0m\u001b[0;34m[\u001b[0m\u001b[0;36m0\u001b[0m\u001b[0;34m]\u001b[0m \u001b[0;32mfor\u001b[0m \u001b[0mword\u001b[0m \u001b[0;32min\u001b[0m \u001b[0mhan\u001b[0m\u001b[0;34m.\u001b[0m\u001b[0mpos\u001b[0m\u001b[0;34m(\u001b[0m\u001b[0mdaata\u001b[0m\u001b[0;34m)\u001b[0m \u001b[0;32mif\u001b[0m \u001b[0mword\u001b[0m\u001b[0;34m[\u001b[0m\u001b[0;36m1\u001b[0m\u001b[0;34m]\u001b[0m \u001b[0;34m==\u001b[0m\u001b[0;34m'N'\u001b[0m\u001b[0;34m]\u001b[0m\u001b[0;34m\u001b[0m\u001b[0;34m\u001b[0m\u001b[0m\n\u001b[0m\u001b[1;32m      2\u001b[0m \u001b[0;31m# pd.Series(sample).value_counts().head(30)\u001b[0m\u001b[0;34m\u001b[0m\u001b[0;34m\u001b[0m\u001b[0;34m\u001b[0m\u001b[0m\n",
            "\u001b[0;32m/usr/local/lib/python3.7/dist-packages/konlpy/tag/_hannanum.py\u001b[0m in \u001b[0;36mpos\u001b[0;34m(self, phrase, ntags, flatten, join)\u001b[0m\n\u001b[1;32m     97\u001b[0m \u001b[0;34m\u001b[0m\u001b[0m\n\u001b[1;32m     98\u001b[0m         \u001b[0;32mif\u001b[0m \u001b[0mntags\u001b[0m \u001b[0;34m==\u001b[0m \u001b[0;36m9\u001b[0m\u001b[0;34m:\u001b[0m\u001b[0;34m\u001b[0m\u001b[0;34m\u001b[0m\u001b[0m\n\u001b[0;32m---> 99\u001b[0;31m             \u001b[0mresult\u001b[0m \u001b[0;34m=\u001b[0m \u001b[0mself\u001b[0m\u001b[0;34m.\u001b[0m\u001b[0mjhi\u001b[0m\u001b[0;34m.\u001b[0m\u001b[0msimplePos09\u001b[0m\u001b[0;34m(\u001b[0m\u001b[0mphrase\u001b[0m\u001b[0;34m)\u001b[0m\u001b[0;34m\u001b[0m\u001b[0;34m\u001b[0m\u001b[0m\n\u001b[0m\u001b[1;32m    100\u001b[0m         \u001b[0;32melif\u001b[0m \u001b[0mntags\u001b[0m \u001b[0;34m==\u001b[0m \u001b[0;36m22\u001b[0m\u001b[0;34m:\u001b[0m\u001b[0;34m\u001b[0m\u001b[0;34m\u001b[0m\u001b[0m\n\u001b[1;32m    101\u001b[0m             \u001b[0mresult\u001b[0m \u001b[0;34m=\u001b[0m \u001b[0mself\u001b[0m\u001b[0;34m.\u001b[0m\u001b[0mjhi\u001b[0m\u001b[0;34m.\u001b[0m\u001b[0msimplePos22\u001b[0m\u001b[0;34m(\u001b[0m\u001b[0mphrase\u001b[0m\u001b[0;34m)\u001b[0m\u001b[0;34m\u001b[0m\u001b[0;34m\u001b[0m\u001b[0m\n",
            "\u001b[0;31mKeyboardInterrupt\u001b[0m: "
          ]
        }
      ]
    },
    {
      "cell_type": "code",
      "source": [
        "daata[:150]"
      ],
      "metadata": {
        "colab": {
          "base_uri": "https://localhost:8080/",
          "height": 36
        },
        "id": "nPp7FBVjdtBv",
        "outputId": "f8af3e4b-ac51-49f0-a185-779754952694"
      },
      "execution_count": 88,
      "outputs": [
        {
          "output_type": "execute_result",
          "data": {
            "text/plain": [
              "'국내 확진자 사상 첫 1만8000명 돌파2만명 목전 설 끝나면 늘어날 듯설날인 1일 오전 서울 송파구 올림픽공원에 마련된 코로나 임시 선별검사소에서 의료진이 검사를 진행하고 있다 설날인 1일 코로나 일일 신규 확진자 수가 사상 최다인 1만8343명으로 집계됐다 확진자 '"
            ],
            "application/vnd.google.colaboratory.intrinsic+json": {
              "type": "string"
            }
          },
          "metadata": {},
          "execution_count": 88
        }
      ]
    },
    {
      "cell_type": "code",
      "source": [
        "han.pos('국내 확진자 사상 첫 1만8000명 돌파2만명 목전 설 끝나면 늘어날 듯설날인 1일')"
      ],
      "metadata": {
        "colab": {
          "base_uri": "https://localhost:8080/"
        },
        "id": "rGhQq7dIdkcl",
        "outputId": "d2d60641-f3ba-4191-87fd-1f62f24d56a8"
      },
      "execution_count": 87,
      "outputs": [
        {
          "output_type": "execute_result",
          "data": {
            "text/plain": [
              "[('국내', 'N'),\n",
              " ('확진자', 'N'),\n",
              " ('사상', 'N'),\n",
              " ('첫', 'N'),\n",
              " ('1만8000명', 'N'),\n",
              " ('돌파2만명', 'N'),\n",
              " ('목전', 'N'),\n",
              " ('서', 'P'),\n",
              " ('ㄹ', 'E'),\n",
              " ('끝나', 'P'),\n",
              " ('면', 'E'),\n",
              " ('늘', 'P'),\n",
              " ('어', 'E'),\n",
              " ('나', 'P'),\n",
              " ('ㄹ', 'E'),\n",
              " ('듯설날', 'N'),\n",
              " ('이', 'J'),\n",
              " ('ㄴ', 'E'),\n",
              " ('1일', 'N')]"
            ]
          },
          "metadata": {},
          "execution_count": 87
        }
      ]
    },
    {
      "cell_type": "markdown",
      "source": [
        "## 방법론 2 \n",
        "  #### 일자별로 분석후 합치기 "
      ],
      "metadata": {
        "id": "B3YwPtZFQAPd"
      }
    },
    {
      "cell_type": "code",
      "source": [
        "day_25 = date_df[date_df['Day']=='25']\n",
        "day_25.head()"
      ],
      "metadata": {
        "colab": {
          "base_uri": "https://localhost:8080/",
          "height": 206
        },
        "id": "M-zd8bcOQFCs",
        "outputId": "1ba3628d-97fc-456a-b71f-da22e0e3db7d"
      },
      "execution_count": 29,
      "outputs": [
        {
          "output_type": "execute_result",
          "data": {
            "text/plain": [
              "    Year Month Day                                      clean_content\n",
              "17  2022    02  25  지방은 어쩌다 공공의 적이 되었나 한네 블랭크 지음 이은정 옮김황소자리 232쪽 1...\n",
              "18  2022    02  25   러시아 제재 발표하는 존슨 영국 총리 오른쪽 사진은 블라디미르 푸틴 러시아 대통령...\n",
              "20  2022    02  25   배우자 선거운동 도움 안된다 김혜경 53 김건희는 68 TV토론 후보선택에 영향 ...\n",
              "36  2022    02  25  우리금융그룹 사장 승진 사업지원총괄 박화재 미래성장총괄 전상욱 수석부사장 승진 감사...\n",
              "76  2022    02  25  매주 성경공부 사경회 전교생 예배로중 고등학교 6년 동안 신앙으로 중무장동급생에 영..."
            ],
            "text/html": [
              "\n",
              "  <div id=\"df-a2bc9c67-1812-4966-9a1b-452ec64f73e6\">\n",
              "    <div class=\"colab-df-container\">\n",
              "      <div>\n",
              "<style scoped>\n",
              "    .dataframe tbody tr th:only-of-type {\n",
              "        vertical-align: middle;\n",
              "    }\n",
              "\n",
              "    .dataframe tbody tr th {\n",
              "        vertical-align: top;\n",
              "    }\n",
              "\n",
              "    .dataframe thead th {\n",
              "        text-align: right;\n",
              "    }\n",
              "</style>\n",
              "<table border=\"1\" class=\"dataframe\">\n",
              "  <thead>\n",
              "    <tr style=\"text-align: right;\">\n",
              "      <th></th>\n",
              "      <th>Year</th>\n",
              "      <th>Month</th>\n",
              "      <th>Day</th>\n",
              "      <th>clean_content</th>\n",
              "    </tr>\n",
              "  </thead>\n",
              "  <tbody>\n",
              "    <tr>\n",
              "      <th>17</th>\n",
              "      <td>2022</td>\n",
              "      <td>02</td>\n",
              "      <td>25</td>\n",
              "      <td>지방은 어쩌다 공공의 적이 되었나 한네 블랭크 지음 이은정 옮김황소자리 232쪽 1...</td>\n",
              "    </tr>\n",
              "    <tr>\n",
              "      <th>18</th>\n",
              "      <td>2022</td>\n",
              "      <td>02</td>\n",
              "      <td>25</td>\n",
              "      <td>러시아 제재 발표하는 존슨 영국 총리 오른쪽 사진은 블라디미르 푸틴 러시아 대통령...</td>\n",
              "    </tr>\n",
              "    <tr>\n",
              "      <th>20</th>\n",
              "      <td>2022</td>\n",
              "      <td>02</td>\n",
              "      <td>25</td>\n",
              "      <td>배우자 선거운동 도움 안된다 김혜경 53 김건희는 68 TV토론 후보선택에 영향 ...</td>\n",
              "    </tr>\n",
              "    <tr>\n",
              "      <th>36</th>\n",
              "      <td>2022</td>\n",
              "      <td>02</td>\n",
              "      <td>25</td>\n",
              "      <td>우리금융그룹 사장 승진 사업지원총괄 박화재 미래성장총괄 전상욱 수석부사장 승진 감사...</td>\n",
              "    </tr>\n",
              "    <tr>\n",
              "      <th>76</th>\n",
              "      <td>2022</td>\n",
              "      <td>02</td>\n",
              "      <td>25</td>\n",
              "      <td>매주 성경공부 사경회 전교생 예배로중 고등학교 6년 동안 신앙으로 중무장동급생에 영...</td>\n",
              "    </tr>\n",
              "  </tbody>\n",
              "</table>\n",
              "</div>\n",
              "      <button class=\"colab-df-convert\" onclick=\"convertToInteractive('df-a2bc9c67-1812-4966-9a1b-452ec64f73e6')\"\n",
              "              title=\"Convert this dataframe to an interactive table.\"\n",
              "              style=\"display:none;\">\n",
              "        \n",
              "  <svg xmlns=\"http://www.w3.org/2000/svg\" height=\"24px\"viewBox=\"0 0 24 24\"\n",
              "       width=\"24px\">\n",
              "    <path d=\"M0 0h24v24H0V0z\" fill=\"none\"/>\n",
              "    <path d=\"M18.56 5.44l.94 2.06.94-2.06 2.06-.94-2.06-.94-.94-2.06-.94 2.06-2.06.94zm-11 1L8.5 8.5l.94-2.06 2.06-.94-2.06-.94L8.5 2.5l-.94 2.06-2.06.94zm10 10l.94 2.06.94-2.06 2.06-.94-2.06-.94-.94-2.06-.94 2.06-2.06.94z\"/><path d=\"M17.41 7.96l-1.37-1.37c-.4-.4-.92-.59-1.43-.59-.52 0-1.04.2-1.43.59L10.3 9.45l-7.72 7.72c-.78.78-.78 2.05 0 2.83L4 21.41c.39.39.9.59 1.41.59.51 0 1.02-.2 1.41-.59l7.78-7.78 2.81-2.81c.8-.78.8-2.07 0-2.86zM5.41 20L4 18.59l7.72-7.72 1.47 1.35L5.41 20z\"/>\n",
              "  </svg>\n",
              "      </button>\n",
              "      \n",
              "  <style>\n",
              "    .colab-df-container {\n",
              "      display:flex;\n",
              "      flex-wrap:wrap;\n",
              "      gap: 12px;\n",
              "    }\n",
              "\n",
              "    .colab-df-convert {\n",
              "      background-color: #E8F0FE;\n",
              "      border: none;\n",
              "      border-radius: 50%;\n",
              "      cursor: pointer;\n",
              "      display: none;\n",
              "      fill: #1967D2;\n",
              "      height: 32px;\n",
              "      padding: 0 0 0 0;\n",
              "      width: 32px;\n",
              "    }\n",
              "\n",
              "    .colab-df-convert:hover {\n",
              "      background-color: #E2EBFA;\n",
              "      box-shadow: 0px 1px 2px rgba(60, 64, 67, 0.3), 0px 1px 3px 1px rgba(60, 64, 67, 0.15);\n",
              "      fill: #174EA6;\n",
              "    }\n",
              "\n",
              "    [theme=dark] .colab-df-convert {\n",
              "      background-color: #3B4455;\n",
              "      fill: #D2E3FC;\n",
              "    }\n",
              "\n",
              "    [theme=dark] .colab-df-convert:hover {\n",
              "      background-color: #434B5C;\n",
              "      box-shadow: 0px 1px 3px 1px rgba(0, 0, 0, 0.15);\n",
              "      filter: drop-shadow(0px 1px 2px rgba(0, 0, 0, 0.3));\n",
              "      fill: #FFFFFF;\n",
              "    }\n",
              "  </style>\n",
              "\n",
              "      <script>\n",
              "        const buttonEl =\n",
              "          document.querySelector('#df-a2bc9c67-1812-4966-9a1b-452ec64f73e6 button.colab-df-convert');\n",
              "        buttonEl.style.display =\n",
              "          google.colab.kernel.accessAllowed ? 'block' : 'none';\n",
              "\n",
              "        async function convertToInteractive(key) {\n",
              "          const element = document.querySelector('#df-a2bc9c67-1812-4966-9a1b-452ec64f73e6');\n",
              "          const dataTable =\n",
              "            await google.colab.kernel.invokeFunction('convertToInteractive',\n",
              "                                                     [key], {});\n",
              "          if (!dataTable) return;\n",
              "\n",
              "          const docLinkHtml = 'Like what you see? Visit the ' +\n",
              "            '<a target=\"_blank\" href=https://colab.research.google.com/notebooks/data_table.ipynb>data table notebook</a>'\n",
              "            + ' to learn more about interactive tables.';\n",
              "          element.innerHTML = '';\n",
              "          dataTable['output_type'] = 'display_data';\n",
              "          await google.colab.output.renderOutput(dataTable, element);\n",
              "          const docLink = document.createElement('div');\n",
              "          docLink.innerHTML = docLinkHtml;\n",
              "          element.appendChild(docLink);\n",
              "        }\n",
              "      </script>\n",
              "    </div>\n",
              "  </div>\n",
              "  "
            ]
          },
          "metadata": {},
          "execution_count": 29
        }
      ]
    },
    {
      "cell_type": "code",
      "source": [
        "def create_daily_list(x):\n",
        "  day_x = date_df[date_df['Day']==str(x)] ## 01~ 31 \n",
        "  day_x_content = list(day_x['clean_content'])\n",
        "  return day_x_content"
      ],
      "metadata": {
        "id": "k8QY5EVP--JH"
      },
      "execution_count": 30,
      "outputs": []
    },
    {
      "cell_type": "code",
      "source": [
        "create_daily_list(25) # 일별 기사 리스트화"
      ],
      "metadata": {
        "id": "sh3JE97Y_N2N"
      },
      "execution_count": null,
      "outputs": []
    },
    {
      "cell_type": "code",
      "source": [
        "list(date_df[date_df['Day']=='25']['clean_content'])"
      ],
      "metadata": {
        "id": "GMF5Es2e9EaG"
      },
      "execution_count": null,
      "outputs": []
    },
    {
      "cell_type": "code",
      "source": [
        "day_25_content = list(day_25['clean_content'])"
      ],
      "metadata": {
        "id": "qe9weZhYYY9o"
      },
      "execution_count": 33,
      "outputs": []
    },
    {
      "cell_type": "code",
      "source": [
        "day_25_content"
      ],
      "metadata": {
        "id": "JFDq8hgj6xiI"
      },
      "execution_count": null,
      "outputs": []
    },
    {
      "cell_type": "code",
      "source": [
        "# 25일 기준 샘플 \n",
        "lst_sample = []\n",
        "for i in range(len(day_25_content)):\n",
        "  sample = [word[0] for word in han.pos(clean_text(day_25_content[i])) if word[1] =='N']\n",
        "  lst_sample.append(sample)\n",
        "\n",
        "  #  for word in han.pos(clean_text(day_25_content[i])):\n",
        "\n",
        "  #   if word[1] =='N':\n",
        "  #     lst_sample.append(word[0]) "
      ],
      "metadata": {
        "id": "rYhrmFE7VBW_"
      },
      "execution_count": null,
      "outputs": []
    },
    {
      "cell_type": "code",
      "source": [
        "###########################\n",
        "#일별 데이터프레임 생성###\n",
        "##########################\n",
        "for k in set(date_df['Day']):\n",
        "  lst_sample_k = []\n",
        "  input_data = create_daily_list(k) \n",
        "  for i in range(len(input_data)):\n",
        "    sample = [word[0] for word in han.pos(clean_text(input_data[i])) if word[1] =='N']\n",
        "    lst_sample_k.append(sample)\n"
      ],
      "metadata": {
        "id": "yha7twtB7jSG"
      },
      "execution_count": null,
      "outputs": []
    },
    {
      "cell_type": "markdown",
      "source": [
        "### 1일자 카운팅 "
      ],
      "metadata": {
        "id": "PH210PzDOL1U"
      }
    },
    {
      "cell_type": "code",
      "source": [
        "lst_sample_01 = []\n",
        "input_data = create_daily_list('01') \n",
        "for i in range(len(input_data)):\n",
        "  sample = [word[0] for word in han.pos(clean_text(input_data[i])) if word[1] =='N']\n",
        "  lst_sample_01.append(sample)"
      ],
      "metadata": {
        "id": "XReJ5Z6mJDHQ"
      },
      "execution_count": 99,
      "outputs": []
    },
    {
      "cell_type": "code",
      "source": [
        "lst_sample_01"
      ],
      "metadata": {
        "id": "bky_jQ6EJimn"
      },
      "execution_count": null,
      "outputs": []
    },
    {
      "cell_type": "code",
      "source": [
        "pd.concat([pd.Series(lst_sample[0]),pd.Series(lst_sample[1])]) # 일별 모든 content 분석하고 합쳐 놓기. "
      ],
      "metadata": {
        "colab": {
          "base_uri": "https://localhost:8080/",
          "height": 176
        },
        "id": "LX6QEjXkC602",
        "outputId": "6ce4bc83-48bf-4e7e-d5c8-99a82c6a90d0"
      },
      "execution_count": 101,
      "outputs": [
        {
          "output_type": "error",
          "ename": "NameError",
          "evalue": "ignored",
          "traceback": [
            "\u001b[0;31m---------------------------------------------------------------------------\u001b[0m",
            "\u001b[0;31mNameError\u001b[0m                                 Traceback (most recent call last)",
            "\u001b[0;32m<ipython-input-101-197fbf28fa9a>\u001b[0m in \u001b[0;36m<module>\u001b[0;34m()\u001b[0m\n\u001b[0;32m----> 1\u001b[0;31m \u001b[0mpd\u001b[0m\u001b[0;34m.\u001b[0m\u001b[0mconcat\u001b[0m\u001b[0;34m(\u001b[0m\u001b[0;34m[\u001b[0m\u001b[0mpd\u001b[0m\u001b[0;34m.\u001b[0m\u001b[0mSeries\u001b[0m\u001b[0;34m(\u001b[0m\u001b[0mlst_sample\u001b[0m\u001b[0;34m[\u001b[0m\u001b[0;36m0\u001b[0m\u001b[0;34m]\u001b[0m\u001b[0;34m)\u001b[0m\u001b[0;34m,\u001b[0m\u001b[0mpd\u001b[0m\u001b[0;34m.\u001b[0m\u001b[0mSeries\u001b[0m\u001b[0;34m(\u001b[0m\u001b[0mlst_sample\u001b[0m\u001b[0;34m[\u001b[0m\u001b[0;36m1\u001b[0m\u001b[0;34m]\u001b[0m\u001b[0;34m)\u001b[0m\u001b[0;34m]\u001b[0m\u001b[0;34m)\u001b[0m \u001b[0;31m# 일별 모든 content 분석하고 합쳐 놓기.\u001b[0m\u001b[0;34m\u001b[0m\u001b[0;34m\u001b[0m\u001b[0m\n\u001b[0m",
            "\u001b[0;31mNameError\u001b[0m: name 'lst_sample' is not defined"
          ]
        }
      ]
    },
    {
      "cell_type": "code",
      "source": [
        "# lst_sample\n",
        "result_01 = sum(lst_sample_01,[]) # 리스트 합치기 \n",
        "len(result)"
      ],
      "metadata": {
        "colab": {
          "base_uri": "https://localhost:8080/"
        },
        "id": "2-fyrM0GCWGt",
        "outputId": "6218be7b-a45b-41c8-ab7c-78e5c54a59f6"
      },
      "execution_count": 102,
      "outputs": [
        {
          "output_type": "execute_result",
          "data": {
            "text/plain": [
              "54332"
            ]
          },
          "metadata": {},
          "execution_count": 102
        }
      ]
    },
    {
      "cell_type": "code",
      "source": [
        "pd.Series(result_01).value_counts().head(40)"
      ],
      "metadata": {
        "colab": {
          "base_uri": "https://localhost:8080/"
        },
        "id": "T0ciXV8QK_qz",
        "outputId": "3040c831-9e4a-48af-ef96-ead8854a05a0"
      },
      "execution_count": 103,
      "outputs": [
        {
          "output_type": "execute_result",
          "data": {
            "text/plain": [
              "것       828\n",
              "후보      654\n",
              "등       542\n",
              "수       534\n",
              "이       435\n",
              "말       236\n",
              "며       210\n",
              "전       200\n",
              "대선      195\n",
              "중       194\n",
              "지난해     183\n",
              "라       181\n",
              "그       179\n",
              "이날      157\n",
              "1일      154\n",
              "정부      151\n",
              "코       144\n",
              "일본      142\n",
              "씨       142\n",
              "윤       139\n",
              "1       138\n",
              "때       137\n",
              "미국      133\n",
              "일       130\n",
              "국민의힘    130\n",
              "서울      129\n",
              "지난달     118\n",
              "중국      104\n",
              "사람      104\n",
              "지역      102\n",
              "저       102\n",
              "이재명     101\n",
              "때문      101\n",
              "토론       99\n",
              "이후       98\n",
              "우리       98\n",
              "이상       97\n",
              "윤석열      97\n",
              "총리       97\n",
              "대표       96\n",
              "dtype: int64"
            ]
          },
          "metadata": {},
          "execution_count": 103
        }
      ]
    },
    {
      "cell_type": "code",
      "source": [
        "def counting_daily_word(x): # 두자리로 입력 \n",
        "  lst_sample_x = []\n",
        "  input_data = create_daily_list(str(x)) \n",
        "  for i in range(len(input_data)):\n",
        "    sample = [word[0] for word in han.pos((input_data[i])) if word[1] =='N']\n",
        "    lst_sample_x.append(sample)\n",
        "  result_x = sum(lst_sample_x,[]) # 리스트 합치기 \n",
        "  final_ = pd.Series(result_x).value_counts().head(50)\n",
        "  return final_"
      ],
      "metadata": {
        "id": "2m8QhIkwLBI4"
      },
      "execution_count": 104,
      "outputs": []
    },
    {
      "cell_type": "code",
      "source": [
        "counting_daily_word('01')"
      ],
      "metadata": {
        "colab": {
          "base_uri": "https://localhost:8080/"
        },
        "id": "eHQYCIaBPK-3",
        "outputId": "57eb3852-197a-4c55-aa7f-3d5455b8e4ca"
      },
      "execution_count": 66,
      "outputs": [
        {
          "output_type": "execute_result",
          "data": {
            "text/plain": [
              "것       828\n",
              "후보      654\n",
              "등       542\n",
              "수       534\n",
              "이       435\n",
              "말       236\n",
              "며       210\n",
              "전       200\n",
              "대선      195\n",
              "중       194\n",
              "지난해     183\n",
              "라       181\n",
              "그       179\n",
              "이날      157\n",
              "1일      154\n",
              "정부      151\n",
              "코       144\n",
              "일본      142\n",
              "씨       142\n",
              "윤       139\n",
              "1       138\n",
              "때       137\n",
              "미국      133\n",
              "일       130\n",
              "국민의힘    130\n",
              "서울      129\n",
              "지난달     118\n",
              "중국      104\n",
              "사람      104\n",
              "지역      102\n",
              "dtype: int64"
            ]
          },
          "metadata": {},
          "execution_count": 66
        }
      ]
    },
    {
      "cell_type": "code",
      "source": [
        "counting_daily_word('02')"
      ],
      "metadata": {
        "colab": {
          "base_uri": "https://localhost:8080/"
        },
        "id": "zAKjenKMPNXf",
        "outputId": "9e785e94-4192-47fc-c57b-9849aa9b49fa"
      },
      "execution_count": 67,
      "outputs": [
        {
          "output_type": "execute_result",
          "data": {
            "text/plain": [
              "것       1627\n",
              "등       1155\n",
              "이       1037\n",
              "후보      1035\n",
              "수        884\n",
              "전        562\n",
              "중        477\n",
              "말        469\n",
              "며        418\n",
              "지난달      392\n",
              "지난해      385\n",
              "코        368\n",
              "2일       336\n",
              "대선       327\n",
              "정부       285\n",
              "그        281\n",
              "의원       279\n",
              "중국       269\n",
              "라        259\n",
              "이날       245\n",
              "윤        234\n",
              "때        225\n",
              "미국       222\n",
              "씨        220\n",
              "국민의힘     216\n",
              "1        210\n",
              "북한       207\n",
              "확진자      206\n",
              "검사       205\n",
              "2        205\n",
              "dtype: int64"
            ]
          },
          "metadata": {},
          "execution_count": 67
        }
      ]
    },
    {
      "cell_type": "code",
      "source": [
        ""
      ],
      "metadata": {
        "id": "GCa9oi3RQVhy"
      },
      "execution_count": null,
      "outputs": []
    }
  ]
}