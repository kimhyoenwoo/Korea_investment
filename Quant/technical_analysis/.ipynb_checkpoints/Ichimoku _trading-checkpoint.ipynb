{
 "cells": [
  {
   "cell_type": "code",
   "execution_count": 24,
   "id": "af0c8dee",
   "metadata": {},
   "outputs": [],
   "source": [
    "import yfinance as yf \n",
    "import pandas as pd \n",
    "import os \n",
    "import matplotlib.pyplot as plt"
   ]
  },
  {
   "cell_type": "code",
   "execution_count": 2,
   "id": "2b334fad",
   "metadata": {},
   "outputs": [
    {
     "name": "stdout",
     "output_type": "stream",
     "text": [
      "[*********************100%***********************]  1 of 1 completed\n"
     ]
    }
   ],
   "source": [
    "aapl = yf.download('AAPL',start='2020-01-01')"
   ]
  },
  {
   "cell_type": "code",
   "execution_count": 6,
   "id": "c6b17fcf",
   "metadata": {},
   "outputs": [
    {
     "data": {
      "text/html": [
       "<div>\n",
       "<style scoped>\n",
       "    .dataframe tbody tr th:only-of-type {\n",
       "        vertical-align: middle;\n",
       "    }\n",
       "\n",
       "    .dataframe tbody tr th {\n",
       "        vertical-align: top;\n",
       "    }\n",
       "\n",
       "    .dataframe thead th {\n",
       "        text-align: right;\n",
       "    }\n",
       "</style>\n",
       "<table border=\"1\" class=\"dataframe\">\n",
       "  <thead>\n",
       "    <tr style=\"text-align: right;\">\n",
       "      <th></th>\n",
       "      <th>Date</th>\n",
       "      <th>Open</th>\n",
       "      <th>High</th>\n",
       "      <th>Low</th>\n",
       "      <th>Close</th>\n",
       "      <th>Adj Close</th>\n",
       "      <th>Volume</th>\n",
       "    </tr>\n",
       "  </thead>\n",
       "  <tbody>\n",
       "    <tr>\n",
       "      <th>0</th>\n",
       "      <td>2019-12-31</td>\n",
       "      <td>72.482498</td>\n",
       "      <td>73.419998</td>\n",
       "      <td>72.379997</td>\n",
       "      <td>73.412498</td>\n",
       "      <td>72.139961</td>\n",
       "      <td>100805600</td>\n",
       "    </tr>\n",
       "    <tr>\n",
       "      <th>1</th>\n",
       "      <td>2020-01-02</td>\n",
       "      <td>74.059998</td>\n",
       "      <td>75.150002</td>\n",
       "      <td>73.797501</td>\n",
       "      <td>75.087502</td>\n",
       "      <td>73.785912</td>\n",
       "      <td>135480400</td>\n",
       "    </tr>\n",
       "    <tr>\n",
       "      <th>2</th>\n",
       "      <td>2020-01-03</td>\n",
       "      <td>74.287498</td>\n",
       "      <td>75.144997</td>\n",
       "      <td>74.125000</td>\n",
       "      <td>74.357498</td>\n",
       "      <td>73.068565</td>\n",
       "      <td>146322800</td>\n",
       "    </tr>\n",
       "    <tr>\n",
       "      <th>3</th>\n",
       "      <td>2020-01-06</td>\n",
       "      <td>73.447502</td>\n",
       "      <td>74.989998</td>\n",
       "      <td>73.187500</td>\n",
       "      <td>74.949997</td>\n",
       "      <td>73.650803</td>\n",
       "      <td>118387200</td>\n",
       "    </tr>\n",
       "    <tr>\n",
       "      <th>4</th>\n",
       "      <td>2020-01-07</td>\n",
       "      <td>74.959999</td>\n",
       "      <td>75.224998</td>\n",
       "      <td>74.370003</td>\n",
       "      <td>74.597504</td>\n",
       "      <td>73.304420</td>\n",
       "      <td>108872000</td>\n",
       "    </tr>\n",
       "    <tr>\n",
       "      <th>...</th>\n",
       "      <td>...</td>\n",
       "      <td>...</td>\n",
       "      <td>...</td>\n",
       "      <td>...</td>\n",
       "      <td>...</td>\n",
       "      <td>...</td>\n",
       "      <td>...</td>\n",
       "    </tr>\n",
       "    <tr>\n",
       "      <th>612</th>\n",
       "      <td>2022-06-06</td>\n",
       "      <td>147.029999</td>\n",
       "      <td>148.570007</td>\n",
       "      <td>144.899994</td>\n",
       "      <td>146.139999</td>\n",
       "      <td>146.139999</td>\n",
       "      <td>71598400</td>\n",
       "    </tr>\n",
       "    <tr>\n",
       "      <th>613</th>\n",
       "      <td>2022-06-07</td>\n",
       "      <td>144.350006</td>\n",
       "      <td>149.000000</td>\n",
       "      <td>144.100006</td>\n",
       "      <td>148.710007</td>\n",
       "      <td>148.710007</td>\n",
       "      <td>67808200</td>\n",
       "    </tr>\n",
       "    <tr>\n",
       "      <th>614</th>\n",
       "      <td>2022-06-08</td>\n",
       "      <td>148.580002</td>\n",
       "      <td>149.869995</td>\n",
       "      <td>147.460007</td>\n",
       "      <td>147.960007</td>\n",
       "      <td>147.960007</td>\n",
       "      <td>53950200</td>\n",
       "    </tr>\n",
       "    <tr>\n",
       "      <th>615</th>\n",
       "      <td>2022-06-09</td>\n",
       "      <td>147.080002</td>\n",
       "      <td>147.949997</td>\n",
       "      <td>142.529999</td>\n",
       "      <td>142.639999</td>\n",
       "      <td>142.639999</td>\n",
       "      <td>69473000</td>\n",
       "    </tr>\n",
       "    <tr>\n",
       "      <th>616</th>\n",
       "      <td>2022-06-10</td>\n",
       "      <td>140.279999</td>\n",
       "      <td>140.759995</td>\n",
       "      <td>137.059998</td>\n",
       "      <td>137.130005</td>\n",
       "      <td>137.130005</td>\n",
       "      <td>91437900</td>\n",
       "    </tr>\n",
       "  </tbody>\n",
       "</table>\n",
       "<p>617 rows × 7 columns</p>\n",
       "</div>"
      ],
      "text/plain": [
       "          Date        Open        High         Low       Close   Adj Close  \\\n",
       "0   2019-12-31   72.482498   73.419998   72.379997   73.412498   72.139961   \n",
       "1   2020-01-02   74.059998   75.150002   73.797501   75.087502   73.785912   \n",
       "2   2020-01-03   74.287498   75.144997   74.125000   74.357498   73.068565   \n",
       "3   2020-01-06   73.447502   74.989998   73.187500   74.949997   73.650803   \n",
       "4   2020-01-07   74.959999   75.224998   74.370003   74.597504   73.304420   \n",
       "..         ...         ...         ...         ...         ...         ...   \n",
       "612 2022-06-06  147.029999  148.570007  144.899994  146.139999  146.139999   \n",
       "613 2022-06-07  144.350006  149.000000  144.100006  148.710007  148.710007   \n",
       "614 2022-06-08  148.580002  149.869995  147.460007  147.960007  147.960007   \n",
       "615 2022-06-09  147.080002  147.949997  142.529999  142.639999  142.639999   \n",
       "616 2022-06-10  140.279999  140.759995  137.059998  137.130005  137.130005   \n",
       "\n",
       "        Volume  \n",
       "0    100805600  \n",
       "1    135480400  \n",
       "2    146322800  \n",
       "3    118387200  \n",
       "4    108872000  \n",
       "..         ...  \n",
       "612   71598400  \n",
       "613   67808200  \n",
       "614   53950200  \n",
       "615   69473000  \n",
       "616   91437900  \n",
       "\n",
       "[617 rows x 7 columns]"
      ]
     },
     "execution_count": 6,
     "metadata": {},
     "output_type": "execute_result"
    }
   ],
   "source": [
    "data = aapl\n",
    "data = data.reset_index()\n",
    "data"
   ]
  },
  {
   "cell_type": "code",
   "execution_count": 1,
   "id": "3ac64de6",
   "metadata": {},
   "outputs": [],
   "source": [
    "# 기준선 \n",
    "def kijun_seon (Data, close, high, low, kijun_lookback, where):\n",
    "    \n",
    "    for i in range(len(Data)):\n",
    "        try:\n",
    "            Data[i, whrere] = max(Data[i - kijun_lookback:i +1, high]) + min(Data[i - kijun_lookback:i +1, low])\n",
    "            \n",
    "        except ValueError:\n",
    "            pass\n",
    "    Data[:, where] = Data[:, where]/2\n",
    "    \n",
    "    return Data"
   ]
  },
  {
   "cell_type": "code",
   "execution_count": null,
   "id": "b1af1112",
   "metadata": {},
   "outputs": [],
   "source": [
    "import pipenv"
   ]
  },
  {
   "cell_type": "code",
   "execution_count": 7,
   "id": "71b1f701",
   "metadata": {},
   "outputs": [],
   "source": [
    "high_prices = data['High']\n",
    "close_prices = data['Close']\n",
    "low_prices = data['Low']\n",
    "dates = data['Date']  # contains datetime objects"
   ]
  },
  {
   "cell_type": "code",
   "execution_count": 8,
   "id": "d54cd5a6",
   "metadata": {},
   "outputs": [
    {
     "data": {
      "text/plain": [
       "0     2019-12-31\n",
       "1     2020-01-02\n",
       "2     2020-01-03\n",
       "3     2020-01-06\n",
       "4     2020-01-07\n",
       "         ...    \n",
       "612   2022-06-06\n",
       "613   2022-06-07\n",
       "614   2022-06-08\n",
       "615   2022-06-09\n",
       "616   2022-06-10\n",
       "Name: Date, Length: 617, dtype: datetime64[ns]"
      ]
     },
     "execution_count": 8,
     "metadata": {},
     "output_type": "execute_result"
    }
   ],
   "source": [
    "# Tenkan-sen (Conversion Line): (9-period high + 9-period low)/2))\n",
    "period9_high = pd.rolling_max(high_prices, window=9)\n",
    "period9_low = pd.rolling_min(low_prices, window=9)\n",
    "tenkan_sen = (period9_high + period9_low) / 2\n",
    "\n",
    "# Kijun-sen (Base Line): (26-period high + 26-period low)/2))\n",
    "period26_high = pd.rolling_max(high_prices, window=26)\n",
    "period26_low = pd.rolling_min(low_prices, window=26)\n",
    "kijun_sen = (period26_high + period26_low) / 2\n",
    "\n",
    "# Senkou Span A (Leading Span A): (Conversion Line + Base Line)/2))\n",
    "senkou_span_a = ((tenkan_sen + kijun_sen) / 2).shift(26)\n",
    "\n",
    "# Senkou Span B (Leading Span B): (52-period high + 52-period low)/2))\n",
    "period52_high = pd.rolling_max(high_prices, window=52)\n",
    "period52_low = pd.rolling_min(low_prices, window=52)\n",
    "senkou_span_b = ((period52_high + period52_low) / 2).shift(26)\n",
    "\n",
    "# The most current closing price plotted 22 time periods behind (optional)\n",
    "chikou_span = close_prices.shift(-22) # 22 according to investopedia"
   ]
  },
  {
   "cell_type": "code",
   "execution_count": 21,
   "id": "c3e60af7",
   "metadata": {},
   "outputs": [],
   "source": [
    "#전환선 (9기간 고가 + 9기간 ) /2 \n",
    "period9_high = high_prices.rolling(window=9).max()\n",
    "period9_low = low_prices.rolling(window=9).min()\n",
    "tenkan_sen =(period9_high + period9_low) / 2\n",
    "\n",
    "# #기준선 ( 26기간 고가 + 26기간저가 )/2\n",
    "period26_high = high_prices.rolling(window=26).max()\n",
    "period26_low = low_prices.rolling(window=26).min()\n",
    "kijun_sen =(period9_high + period9_low) / 2\n",
    "\n",
    "# #선행 스팬 1\n",
    "senkou_span_a = ((tenkan_sen + kijun_sen) / 2).shift(26) # shift() 앞으로 이동 \n",
    "\n",
    "# #선행 스팬 2\n",
    "period52_high = high_prices.rolling(window=52).max()\n",
    "period52_low = high_prices.rolling(window=52).min()\n",
    "senkou_span_b = ((period52_high + period52_low) / 2).shift(26)\n",
    "\n",
    "\n",
    "# #후행 스팬 \n",
    "chikou_span = close_prices.shift(-26) # 후행스팬 당일의 종가 당일 포함 26일 위치에 나나탠 선 \n"
   ]
  },
  {
   "cell_type": "code",
   "execution_count": 27,
   "id": "d704faaf",
   "metadata": {},
   "outputs": [
    {
     "data": {
      "text/plain": [
       "[<matplotlib.lines.Line2D at 0x23a292ae6d0>]"
      ]
     },
     "execution_count": 27,
     "metadata": {},
     "output_type": "execute_result"
    },
    {
     "data": {
      "image/png": "[encoded data removed]",
      "text/plain": [
       "<Figure size 648x360 with 1 Axes>"
      ]
     },
     "metadata": {
      "needs_background": "light"
     },
     "output_type": "display_data"
    }
   ],
   "source": [
    "plt.figure(figsize=(9, 5))\n",
    "plt.plot(aapl.index, tenkan_sen, label='tenkan_sen')\n",
    "plt.plot(aapl.index, kijun_sen, linestyle='dashed', label='Upperkijun_senband')\n",
    "plt.plot(aapl.index, senkou_span_a, linestyle='dashed', label='Moving senkou_span_a 20')\n",
    "plt.plot(aapl.index, senkou_span_b, linestyle='dashed', label='senkou_span_b band')\n",
    "plt.plot(aapl.index, chikou_span, linestyle='dashed', label='chikou_span')\n"
   ]
  },
  {
   "cell_type": "code",
   "execution_count": null,
   "id": "c6bbbdeb",
   "metadata": {},
   "outputs": [],
   "source": []
  }
 ],
 "metadata": {
  "kernelspec": {
   "display_name": "Python 3 (ipykernel)",
   "language": "python",
   "name": "python3"
  },
  "language_info": {
   "codemirror_mode": {
    "name": "ipython",
    "version": 3
   },
   "file_extension": ".py",
   "mimetype": "text/x-python",
   "name": "python",
   "nbconvert_exporter": "python",
   "pygments_lexer": "ipython3",
   "version": "3.8.9"
  }
 },
 "nbformat": 4,
 "nbformat_minor": 5
}
